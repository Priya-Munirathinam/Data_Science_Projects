{
 "cells": [
  {
   "cell_type": "code",
   "execution_count": 1,
   "id": "e9a68346-5262-455b-bd18-c1f9162caa49",
   "metadata": {},
   "outputs": [],
   "source": [
    "from itertools import permutations, combinations, combinations_with_replacement, product"
   ]
  },
  {
   "cell_type": "code",
   "execution_count": 5,
   "id": "d04311fe-d4b8-4a96-9a5f-24c5f1fcf99e",
   "metadata": {},
   "outputs": [
    {
     "data": {
      "text/plain": [
       "120"
      ]
     },
     "execution_count": 5,
     "metadata": {},
     "output_type": "execute_result"
    }
   ],
   "source": [
    "#task1 \n",
    "men=list(range(1,7))\n",
    "women=list(range(1,5))\n",
    "#a) 6C3 x 4C2\n",
    "len(list(combinations(men,r=3)))*len(list(combinations(women,r=2)))"
   ]
  },
  {
   "cell_type": "code",
   "execution_count": 7,
   "id": "0490c35a-a3a2-4ae7-9a4a-4b3f6154fa8f",
   "metadata": {},
   "outputs": [
    {
     "data": {
      "text/plain": [
       "6"
      ]
     },
     "execution_count": 7,
     "metadata": {},
     "output_type": "execute_result"
    }
   ],
   "source": [
    "# b) 6C5\n",
    "len(list(combinations(men,r=5)))"
   ]
  },
  {
   "cell_type": "code",
   "execution_count": 11,
   "id": "36875956-08d0-47ba-9256-5668133e6f13",
   "metadata": {},
   "outputs": [
    {
     "data": {
      "text/plain": [
       "66"
      ]
     },
     "execution_count": 11,
     "metadata": {},
     "output_type": "execute_result"
    }
   ],
   "source": [
    "# c) [6c1 x 4C4] + [6C2 x 4C3]\n",
    "len(list(combinations(men,r=1)))*len(list(combinations(women,r=4))) + len(list(combinations(men,r=2)))*len(list(combinations(women,r=3)))\n",
    "# option 2 is the answer: 120,6,66"
   ]
  },
  {
   "cell_type": "code",
   "execution_count": 11,
   "id": "7e78edb7-6711-401d-b21d-948a8772bf47",
   "metadata": {},
   "outputs": [
    {
     "data": {
      "text/plain": [
       "2598960"
      ]
     },
     "execution_count": 11,
     "metadata": {},
     "output_type": "execute_result"
    }
   ],
   "source": [
    "# task2: \n",
    "card=list(range(1,53))\n",
    "len(list(combinations(card,r=5)))\n",
    " # option 3: 2,598,960 "
   ]
  },
  {
   "cell_type": "code",
   "execution_count": 17,
   "id": "1d43d785-6af6-4632-ad34-229155814b89",
   "metadata": {},
   "outputs": [
    {
     "data": {
      "text/plain": [
       "336"
      ]
     },
     "execution_count": 17,
     "metadata": {},
     "output_type": "execute_result"
    }
   ],
   "source": [
    "# task3: order matters since prize of gold, silver, bronze\n",
    "contestant=['Alice','Ava','Charlie','David','Eve','Frank','George','Mia']\n",
    "len(list(permutations(contestant,r=3)))\n",
    "# option 2: 336"
   ]
  },
  {
   "cell_type": "code",
   "execution_count": 3,
   "id": "a5b85af9-861a-404e-80c0-c6211eee4003",
   "metadata": {},
   "outputs": [],
   "source": [
    "import math as m"
   ]
  },
  {
   "cell_type": "code",
   "execution_count": 13,
   "id": "b9e25f22-59c2-4733-b75c-609f070e5179",
   "metadata": {},
   "outputs": [
    {
     "data": {
      "text/plain": [
       "1133317785600"
      ]
     },
     "execution_count": 13,
     "metadata": {},
     "output_type": "execute_result"
    }
   ],
   "source": [
    "# task4: 15P15 - [14P14 * 2P2]\n",
    "# arrangements where jeni & david together will be removed from total arrangements\n",
    "m.factorial(15)-(2*m.factorial(14))\n",
    "# option 4: 11,33,31,77,85,600"
   ]
  },
  {
   "cell_type": "raw",
   "id": "b6eb0353-c202-4af7-b69b-63ec92add362",
   "metadata": {},
   "source": [
    "# task5: \n",
    "favourable: (1,3), (2,6), (3,1), (6,2) --> 4 elts\n",
    "possible outcomes: 36 elts\n",
    "prob = 4 / 36\n",
    "     = 1/9\n",
    "option 3 is correct"
   ]
  },
  {
   "cell_type": "code",
   "execution_count": 9,
   "id": "c35e7ef9-04ba-415c-9f0b-c0e63ff166c1",
   "metadata": {},
   "outputs": [
    {
     "data": {
      "text/plain": [
       "25200"
      ]
     },
     "execution_count": 9,
     "metadata": {},
     "output_type": "execute_result"
    }
   ],
   "source": [
    "# task6: combination & arrangement(permutation) --> 5p5(7C3 x 4C2)\n",
    "cons = list(range(0,7))\n",
    "vowel = list(range(0,4))\n",
    "m.factorial(5) * len(list(combinations(cons,r=3))) * len(list(combinations(vowel,r=2)))\n",
    "# 3 consonants & 2 vowels together 5 letters need arrangement hence 5P5 = 5!"
   ]
  },
  {
   "cell_type": "raw",
   "id": "a4bf929a-a392-4cf7-a184-6fb59d986801",
   "metadata": {},
   "source": [
    "# task 7: \n",
    "total: 25\n",
    "defect = 25%(25) ~ 6 --> non-defect = 19\n",
    "one bulb is drawn & it is non-defect --> now 24 bulbs 6 defect & 18 non-defcect\n",
    "probability of one more bulb drawn randomly and that is also non-defective: 18/24\n",
    "option 3 is correct"
   ]
  },
  {
   "cell_type": "raw",
   "id": "f59740fe-d635-43b6-81f9-82751ae71b09",
   "metadata": {},
   "source": [
    "# task8: \n",
    "female: p(f) =0.46\n",
    "part timers: p(pt) = 0.174\n",
    "part timers in female: P(f&pt) = 25%(0.46) = 0.25 * 0.46 = 0.115\n",
    "find: probability that part timer is female = P(f/pt)\n",
    "P( f/pt ) = p (f & pt)/ p(pt) = 0.115/0.174 = 0.6609\n",
    "66.09% randomly selected part timer is female"
   ]
  },
  {
   "cell_type": "raw",
   "id": "940ab80e-f58c-48e8-9aea-024e805fa5c4",
   "metadata": {},
   "source": [
    "# task9: \n",
    "Noise: P(n) = 0.70\n",
    "storage: P(s) = 0.67\n",
    "Noise & storage: p(n&s) = 0.56\n",
    "find probability that the randomly chosen worker who believe reducing noise will also believe increase storage: P(s/n)\n",
    "P(s/n)=P(s & n)/P(n) = 0.56/0.70 = 0.80 \n",
    "80 % of the workers who believe reducing noise also believes increasing storage will increase productivity"
   ]
  }
 ],
 "metadata": {
  "kernelspec": {
   "display_name": "Python 3 (ipykernel)",
   "language": "python",
   "name": "python3"
  },
  "language_info": {
   "codemirror_mode": {
    "name": "ipython",
    "version": 3
   },
   "file_extension": ".py",
   "mimetype": "text/x-python",
   "name": "python",
   "nbconvert_exporter": "python",
   "pygments_lexer": "ipython3",
   "version": "3.12.4"
  }
 },
 "nbformat": 4,
 "nbformat_minor": 5
}
