{
 "cells": [
  {
   "cell_type": "code",
   "execution_count": 1,
   "id": "53a1363c-d627-4b69-acef-c95d07f50aae",
   "metadata": {},
   "outputs": [],
   "source": [
    "import pandas as pd\n",
    "import statistics as st\n",
    "import math\n",
    "from scipy.stats import norm"
   ]
  },
  {
   "cell_type": "markdown",
   "id": "86a7a4a3-6151-4af4-9802-b8841da79892",
   "metadata": {},
   "source": [
    "# Real Estate"
   ]
  },
  {
   "cell_type": "raw",
   "id": "733fce09-545e-481b-9dc4-637251e293ae",
   "metadata": {},
   "source": [
    "Task 1a:\n",
    "1) establish hypothesis\n",
    "H0: There is no significant increase or decrease in average rent / The average rent for designated industrial area is 33.88\n",
    "H1: There is significant increase or decrease in price / The average rent for designated industrial area is not 33.88\n",
    "H0: mu = 33.88\n",
    "H1: mu != 33.88\n",
    "2) determine test\n",
    "Hence, two tailed test"
   ]
  },
  {
   "cell_type": "code",
   "execution_count": 3,
   "id": "09a40dcf-9afa-40fd-a1c0-6d06a75b9eab",
   "metadata": {},
   "outputs": [],
   "source": [
    "#3) set alpha\n",
    "alpha = 0.05 # significance level\n",
    "#4) decisin rule\n",
    "# if p_value < alpha then, reject null hypothesis\n",
    "# 5) sample data\n",
    "x= 32.18 # sample mean\n",
    "mu= 33.88 # population mean\n",
    "s = 1.28 # population standard deviation\n",
    "n = 49 # sample size"
   ]
  },
  {
   "cell_type": "code",
   "execution_count": 5,
   "id": "d021fe07-b8e0-4d85-a729-1bd73fa3fdc7",
   "metadata": {},
   "outputs": [
    {
     "name": "stdout",
     "output_type": "stream",
     "text": [
      "Z-statistics is: -9.296875000000016\n",
      "p-value is 1.4463410868771357e-20\n",
      "z_critical value is -1.9599639845400545\n"
     ]
    }
   ],
   "source": [
    "z_statistics = (x-mu)/(s/math.sqrt(n)) #task 1c\n",
    "print('Z-statistics is:',z_statistics)\n",
    "p_value = 2*(norm.sf(abs(z_statistics))) #task 1d\n",
    "print('p-value is',p_value)\n",
    "z_critical = norm.ppf(alpha/2) #task 1b\n",
    "print('z_critical value is',z_critical)\n",
    "# 7) statistical conclusion\n",
    "# p_value~0 < alpha and  - z_critical > z_stat --> reject null hypothesis"
   ]
  },
  {
   "cell_type": "raw",
   "id": "3a203e13-684f-4603-9692-906fe63f0d87",
   "metadata": {},
   "source": [
    "Task 1e:\n",
    "8) Buisness conclusion\n",
    "There is no significant increase or decrease in price of rent. Can conclude that the average rent for designated industrial area is not 33.88"
   ]
  },
  {
   "cell_type": "markdown",
   "id": "c13375e2-0088-4c35-a10c-5ebcb90d787d",
   "metadata": {},
   "source": [
    "# Sports"
   ]
  },
  {
   "cell_type": "raw",
   "id": "be5446a9-c2b7-4a6c-867e-4f2867ac8dd4",
   "metadata": {},
   "source": [
    "Task 2a:\n",
    "1) establish hypothesis\n",
    "H0: Mean throwing distance of javelin is less than or equal to 85 \n",
    "H1: Mean throwing distance of javelin is greater than 85 \n",
    "H0: mu1 <= 85\n",
    "H1: mu1 > 85 \n",
    "2) determine test\n",
    "Hence, one sided right tailed test"
   ]
  },
  {
   "cell_type": "code",
   "execution_count": 25,
   "id": "60c291e5-dd22-4af7-abf2-93a838ea7ef8",
   "metadata": {},
   "outputs": [],
   "source": [
    "#3) set alpha\n",
    "alpha = 0.05 # significance level\n",
    "#4) decisin rule\n",
    "# if p_value < alpha then, reject null hypothesis\n",
    "# 5) 6) sample data & analyse\n",
    "x1 = 87.5 # sample mean\n",
    "mu1 = 85 # population mean\n",
    "s1 = 2.1 # population standard deviation\n",
    "n1 = 32 # sample size"
   ]
  },
  {
   "cell_type": "code",
   "execution_count": 31,
   "id": "b8e6186e-3dcf-49ba-9384-d24946f849fe",
   "metadata": {},
   "outputs": [
    {
     "name": "stdout",
     "output_type": "stream",
     "text": [
      "Z-statistics is: 6.734350297014738\n",
      "p-value is 8.233201952582752e-12\n",
      "z_critical value is 1.6448536269514722\n"
     ]
    }
   ],
   "source": [
    "z_statistics1 = (x1-mu1)/(s1/math.sqrt(n1)) #task 2c\n",
    "print('Z-statistics is:',z_statistics1)\n",
    "p_value1 = norm.sf(abs(z_statistics1)) #task 2d\n",
    "print('p-value is',p_value1)\n",
    "z_critical1 = norm.ppf(1-alpha) #task 2b\n",
    "print('z_critical value is',z_critical1)\n",
    "# 7) statistical conclusion\n",
    "# p_value ~0 <  alpha reject H0; and z_stat > z_critical --> reject null hypothesis"
   ]
  },
  {
   "cell_type": "raw",
   "id": "518d1cd0-411f-491c-ad24-b60632828e8f",
   "metadata": {},
   "source": [
    "Task 2e:\n",
    "8) Buisness conclusion\n",
    "The test tells that,\n",
    "Mean throwing distance of javelin is now greater than 85 "
   ]
  }
 ],
 "metadata": {
  "kernelspec": {
   "display_name": "Python 3 (ipykernel)",
   "language": "python",
   "name": "python3"
  },
  "language_info": {
   "codemirror_mode": {
    "name": "ipython",
    "version": 3
   },
   "file_extension": ".py",
   "mimetype": "text/x-python",
   "name": "python",
   "nbconvert_exporter": "python",
   "pygments_lexer": "ipython3",
   "version": "3.12.4"
  }
 },
 "nbformat": 4,
 "nbformat_minor": 5
}
