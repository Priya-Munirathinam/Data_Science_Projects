{
 "cells": [
  {
   "cell_type": "code",
   "execution_count": 23,
   "id": "830b72aa-bbd5-4a92-b3f8-008f8c73f4aa",
   "metadata": {},
   "outputs": [],
   "source": [
    "#task 1: create class methods that should validate input & raise error message if error raised\n",
    "class product:\n",
    "    def __init__(self):\n",
    "        self.productID='none'\n",
    "        self.name='none'\n",
    "        self.price=0\n",
    "        self.quantity=0\n",
    "        self.total=0\n",
    "    def add_product(self):\n",
    "        try:\n",
    "            self.productID=input('Enter product Id:')\n",
    "            self.name=input('Enter product Name:')\n",
    "            self.price=float(input('price of product:'))\n",
    "            self.quantity=int(input('quantity:'))\n",
    "            self.total=self.price*self.quantity\n",
    "        except ValueError:\n",
    "            print('Enter appropraite values')\n",
    "        \n",
    "    def display(self):\n",
    "        print(f'A total of {self.total}$ for product {self.productID}- {self.name} of (quantity:{self.quantity}) and which is of price:{self.price}$ each')\n",
    "    def format_product(self):\n",
    "        print('Details of product:', '\\nId:',self.productID,'\\nName:',self.name,'\\nPrice:',self.price,'$','\\nQuantity:',self.quantity,'\\nTotal Price:',self.total,'$')\n",
    "\n",
    "product1 = product()\n",
    "product2 = product()"
   ]
  },
  {
   "cell_type": "code",
   "execution_count": 25,
   "id": "10b07b08-efe2-465f-9f9c-98a75e2af746",
   "metadata": {},
   "outputs": [
    {
     "name": "stdin",
     "output_type": "stream",
     "text": [
      "Enter product Id: 1001\n",
      "Enter product Name: b\n",
      "price of product: 2\n",
      "quantity: 12\n",
      "Enter product Id: 1002\n",
      "Enter product Name: r\n",
      "price of product: 3\n",
      "quantity: 10\n"
     ]
    },
    {
     "name": "stdout",
     "output_type": "stream",
     "text": [
      "A total of 24.0$ for product 1001- b of (quantity:12) and which is of price:2.0$ each\n",
      "A total of 30.0$ for product 1002- r of (quantity:10) and which is of price:3.0$ each\n",
      "Details of product: \n",
      "Id: 1001 \n",
      "Name: b \n",
      "Price: 2.0 $ \n",
      "Quantity: 12 \n",
      "Total Price: 24.0 $\n",
      "Details of product: \n",
      "Id: 1002 \n",
      "Name: r \n",
      "Price: 3.0 $ \n",
      "Quantity: 10 \n",
      "Total Price: 30.0 $\n"
     ]
    }
   ],
   "source": [
    "#TASK 2: \n",
    "#a.accept information for 2 products\n",
    "product1.add_product()\n",
    "product2.add_product()\n",
    "product1.display()\n",
    "product2.display()\n",
    "product1.format_product()\n",
    "product2.format_product()"
   ]
  },
  {
   "cell_type": "code",
   "execution_count": 27,
   "id": "d765a714-48a2-4428-8b93-7e06d24ffc2b",
   "metadata": {},
   "outputs": [],
   "source": [
    "#b. Exception handling while writing a file\n",
    "try:\n",
    "    with open('product_detail.txt','w') as file:\n",
    "        file.write(f'Details of product 1:\\n')\n",
    "        file.write(f'Id: {product1.productID}\\n')\n",
    "        file.write(f'Name: {product1.name}\\n')\n",
    "        file.write(f'Price Each: {product1.price}$\\n')\n",
    "        file.write(f'Quantity ordered: {product1.quantity}\\n')\n",
    "        file.write(f'Total amount: {product1.total}$\\n\\n')\n",
    "        file.write(f'Details of product 2:\\n')\n",
    "        file.write(f'Id: {product2.productID}\\n')\n",
    "        file.write(f'Name: {product2.name}\\n')\n",
    "        file.write(f'Price Each: {product2.price}$\\n')\n",
    "        file.write(f'Quantity ordered: {product2.quantity}\\n')\n",
    "        file.write(f'Total amount: {product2.total}$')\n",
    "except TypeError:\n",
    "    print('Error: argument in write() should be a string')\n",
    "except NameError as er:\n",
    "    print(f'Error: {er}')\n",
    "except AttributeError as at:\n",
    "    print(f'Error: {at}')"
   ]
  },
  {
   "cell_type": "code",
   "execution_count": 29,
   "id": "1bc6d60d-ed91-4a6b-b542-1633bbd2ebac",
   "metadata": {},
   "outputs": [
    {
     "name": "stdout",
     "output_type": "stream",
     "text": [
      "Details of product 1:\n",
      "Id: 1001\n",
      "Name: b\n",
      "Price Each: 2.0$\n",
      "Quantity ordered: 12\n",
      "Total amount: 24.0$\n",
      "\n",
      "Details of product 2:\n",
      "Id: 1002\n",
      "Name: r\n",
      "Price Each: 3.0$\n",
      "Quantity ordered: 10\n",
      "Total amount: 30.0$\n",
      "\n",
      "closed the file\n"
     ]
    }
   ],
   "source": [
    "#task 3: \n",
    "# exception handling while read mode \n",
    "try:\n",
    "    with open('product_detail.txt','r') as file:\n",
    "        detail=file.read()\n",
    "        print(detail)\n",
    "except IsADirectoryError:\n",
    "    print('Error: provided filename is a directory, not a file')\n",
    "except FileNotFoundError:\n",
    "    print('Error: check the file name')\n",
    "except PermissionError:\n",
    "    print('Error: No permission to access the file')\n",
    "except Exception as exc:\n",
    "    print(f'Error:{exc}')\n",
    "finally:\n",
    "    file.close\n",
    "    print('\\nclosed the file')"
   ]
  },
  {
   "cell_type": "code",
   "execution_count": null,
   "id": "164f68e1-8819-4740-a4c6-648ff5053190",
   "metadata": {},
   "outputs": [],
   "source": []
  }
 ],
 "metadata": {
  "kernelspec": {
   "display_name": "Python 3 (ipykernel)",
   "language": "python",
   "name": "python3"
  },
  "language_info": {
   "codemirror_mode": {
    "name": "ipython",
    "version": 3
   },
   "file_extension": ".py",
   "mimetype": "text/x-python",
   "name": "python",
   "nbconvert_exporter": "python",
   "pygments_lexer": "ipython3",
   "version": "3.12.4"
  }
 },
 "nbformat": 4,
 "nbformat_minor": 5
}
