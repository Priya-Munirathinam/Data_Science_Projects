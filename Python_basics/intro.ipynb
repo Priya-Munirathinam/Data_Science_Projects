{
 "cells": [
  {
   "cell_type": "code",
   "execution_count": 3,
   "id": "ff6eaa16-eae7-4349-891c-bf5760d4e2d2",
   "metadata": {},
   "outputs": [
    {
     "name": "stdout",
     "output_type": "stream",
     "text": [
      "25\n",
      "140728766446776\n",
      "<class 'int'>\n"
     ]
    }
   ],
   "source": [
    "# 1. create variables\n",
    "# task1 a.\n",
    "rollno=25 # create and assign\n",
    "print(rollno) # print value\n",
    "print(id(rollno)) # print  id\n",
    "print(type(rollno)) # print data type"
   ]
  },
  {
   "cell_type": "code",
   "execution_count": 5,
   "id": "e4ab2453-5ec6-4792-a4ae-52c5a5c4d727",
   "metadata": {},
   "outputs": [
    {
     "name": "stdout",
     "output_type": "stream",
     "text": [
      "Riya\n",
      "2148180986016\n",
      "<class 'str'>\n"
     ]
    }
   ],
   "source": [
    "# task1 b.\n",
    "firstname='Riya' # create and assign\n",
    "print(firstname) # print value\n",
    "print(id(firstname)) # print  id\n",
    "print(type(firstname)) # print data type"
   ]
  },
  {
   "cell_type": "code",
   "execution_count": 7,
   "id": "272873d4-d155-4ca1-866b-f8347ae75877",
   "metadata": {},
   "outputs": [
    {
     "name": "stdout",
     "output_type": "stream",
     "text": [
      "Nathan\n",
      "2148109865280\n",
      "<class 'str'>\n"
     ]
    }
   ],
   "source": [
    "# task1 c.\n",
    "lastname='Nathan' # create and assign\n",
    "print(lastname) # print value\n",
    "print(id(lastname)) # print  id\n",
    "print(type(lastname)) # print data type"
   ]
  },
  {
   "cell_type": "code",
   "execution_count": 9,
   "id": "8cb7958a-fe04-45c7-acf5-cdb08b8110db",
   "metadata": {},
   "outputs": [
    {
     "name": "stdout",
     "output_type": "stream",
     "text": [
      "50\n",
      "140728766447576\n",
      "<class 'int'>\n"
     ]
    }
   ],
   "source": [
    "# task1 d.\n",
    "maxmarks=50 # create and assign\n",
    "print(maxmarks) # print value\n",
    "print(id(maxmarks)) # print  id\n",
    "print(type(maxmarks)) # print data type"
   ]
  },
  {
   "cell_type": "code",
   "execution_count": 13,
   "id": "4ea418f8-596c-4dba-92d0-b2a8d40bac00",
   "metadata": {},
   "outputs": [
    {
     "name": "stdout",
     "output_type": "stream",
     "text": [
      "2\n"
     ]
    }
   ],
   "source": [
    "# 2. naming variables\n",
    "# task 2a\n",
    "var1 = 2\n",
    "print(var1)"
   ]
  },
  {
   "cell_type": "code",
   "execution_count": 15,
   "id": "3c5a647d-7aa2-48a1-89ff-49f6ff92c38c",
   "metadata": {},
   "outputs": [
    {
     "ename": "SyntaxError",
     "evalue": "invalid decimal literal (721026356.py, line 2)",
     "output_type": "error",
     "traceback": [
      "\u001b[1;36m  Cell \u001b[1;32mIn[15], line 2\u001b[1;36m\u001b[0m\n\u001b[1;33m    2var=2\u001b[0m\n\u001b[1;37m    ^\u001b[0m\n\u001b[1;31mSyntaxError\u001b[0m\u001b[1;31m:\u001b[0m invalid decimal literal\n"
     ]
    }
   ],
   "source": [
    "# task 2b\n",
    "2var=2 # invalid variable name; shldnt begin with no\n",
    "print(2var)"
   ]
  },
  {
   "cell_type": "code",
   "execution_count": 21,
   "id": "c2494caf-e756-42ea-b207-6a14eb26d272",
   "metadata": {},
   "outputs": [
    {
     "ename": "SyntaxError",
     "evalue": "invalid syntax (1089706886.py, line 2)",
     "output_type": "error",
     "traceback": [
      "\u001b[1;36m  Cell \u001b[1;32mIn[21], line 2\u001b[1;36m\u001b[0m\n\u001b[1;33m    var 1 =2\u001b[0m\n\u001b[1;37m        ^\u001b[0m\n\u001b[1;31mSyntaxError\u001b[0m\u001b[1;31m:\u001b[0m invalid syntax\n"
     ]
    }
   ],
   "source": [
    "# task 2c\n",
    "var 1 =2 # invalid variable name; shldnt have space\n",
    "print(var 1)"
   ]
  },
  {
   "cell_type": "code",
   "execution_count": 23,
   "id": "9a9720ce-1d19-491a-a213-b401f2c8b240",
   "metadata": {},
   "outputs": [
    {
     "ename": "SyntaxError",
     "evalue": "invalid syntax (3653879555.py, line 2)",
     "output_type": "error",
     "traceback": [
      "\u001b[1;36m  Cell \u001b[1;32mIn[23], line 2\u001b[1;36m\u001b[0m\n\u001b[1;33m    var$2=2\u001b[0m\n\u001b[1;37m       ^\u001b[0m\n\u001b[1;31mSyntaxError\u001b[0m\u001b[1;31m:\u001b[0m invalid syntax\n"
     ]
    }
   ],
   "source": [
    "# task2d\n",
    "var$2=2 # invalid variable name; shldnt begin with no\n",
    "print(var$2)"
   ]
  },
  {
   "cell_type": "code",
   "execution_count": 29,
   "id": "b9b7dc20-b0ae-4249-a573-b113d4bdc6d8",
   "metadata": {},
   "outputs": [],
   "source": [
    "# 3. assigning values to variables\n",
    "# task 3a\n",
    "Class = 15 # accepts defining & assingning the variable which is different from keyword 'class'"
   ]
  },
  {
   "cell_type": "code",
   "execution_count": 31,
   "id": "dd20d200-356f-4af6-9a20-169de605d3d0",
   "metadata": {},
   "outputs": [
    {
     "ename": "SyntaxError",
     "evalue": "invalid syntax (906786208.py, line 2)",
     "output_type": "error",
     "traceback": [
      "\u001b[1;36m  Cell \u001b[1;32mIn[31], line 2\u001b[1;36m\u001b[0m\n\u001b[1;33m    class = 15\u001b[0m\n\u001b[1;37m          ^\u001b[0m\n\u001b[1;31mSyntaxError\u001b[0m\u001b[1;31m:\u001b[0m invalid syntax\n"
     ]
    }
   ],
   "source": [
    "# task 3b\n",
    "class = 15 #invalid syntax: reserved keyword"
   ]
  },
  {
   "cell_type": "code",
   "execution_count": 33,
   "id": "bbb8e1d9-dc04-4e00-b488-7ee1908e5acf",
   "metadata": {},
   "outputs": [],
   "source": [
    "# task 3c\n",
    "DEF = 13"
   ]
  },
  {
   "cell_type": "code",
   "execution_count": 35,
   "id": "279778be-deaa-408d-8993-e9e5cb22cada",
   "metadata": {},
   "outputs": [
    {
     "ename": "SyntaxError",
     "evalue": "invalid syntax (515514663.py, line 2)",
     "output_type": "error",
     "traceback": [
      "\u001b[1;36m  Cell \u001b[1;32mIn[35], line 2\u001b[1;36m\u001b[0m\n\u001b[1;33m    def = 15\u001b[0m\n\u001b[1;37m        ^\u001b[0m\n\u001b[1;31mSyntaxError\u001b[0m\u001b[1;31m:\u001b[0m invalid syntax\n"
     ]
    }
   ],
   "source": [
    "# task 3d\n",
    "def = 15 #invalid syntax: reserved keyword"
   ]
  },
  {
   "cell_type": "code",
   "execution_count": 37,
   "id": "ef9081cf-9c8d-4ec3-bd2b-76b448fcee94",
   "metadata": {},
   "outputs": [
    {
     "ename": "NameError",
     "evalue": "name 'TRUE' is not defined",
     "output_type": "error",
     "traceback": [
      "\u001b[1;31m---------------------------------------------------------------------------\u001b[0m",
      "\u001b[1;31mNameError\u001b[0m                                 Traceback (most recent call last)",
      "Cell \u001b[1;32mIn[37], line 2\u001b[0m\n\u001b[0;32m      1\u001b[0m \u001b[38;5;66;03m# task 3e\u001b[39;00m\n\u001b[1;32m----> 2\u001b[0m a\u001b[38;5;241m=\u001b[39mTRUE\n",
      "\u001b[1;31mNameError\u001b[0m: name 'TRUE' is not defined"
     ]
    }
   ],
   "source": [
    "# task 3e\n",
    "a=TRUE # error: string not in ''"
   ]
  },
  {
   "cell_type": "code",
   "execution_count": 43,
   "id": "98edff31-2609-4892-b775-8e60972603ee",
   "metadata": {},
   "outputs": [
    {
     "ename": "NameError",
     "evalue": "name 'false' is not defined",
     "output_type": "error",
     "traceback": [
      "\u001b[1;31m---------------------------------------------------------------------------\u001b[0m",
      "\u001b[1;31mNameError\u001b[0m                                 Traceback (most recent call last)",
      "Cell \u001b[1;32mIn[43], line 2\u001b[0m\n\u001b[0;32m      1\u001b[0m \u001b[38;5;66;03m# task 3f\u001b[39;00m\n\u001b[1;32m----> 2\u001b[0m b\u001b[38;5;241m=\u001b[39mfalse\n",
      "\u001b[1;31mNameError\u001b[0m: name 'false' is not defined"
     ]
    }
   ],
   "source": [
    "# task 3f\n",
    "b=false # error: string not in ''"
   ]
  },
  {
   "cell_type": "code",
   "execution_count": 45,
   "id": "518a5855-c1ca-4769-8e5d-a00608a50ea3",
   "metadata": {},
   "outputs": [
    {
     "name": "stdout",
     "output_type": "stream",
     "text": [
      "95.7\n",
      "2148212325552\n",
      "<class 'float'>\n"
     ]
    }
   ],
   "source": [
    "# 4. using id()\n",
    "# task 4a\n",
    "marks = 95.7\n",
    "print(marks)\n",
    "print(id(marks))\n",
    "print(type(marks))"
   ]
  },
  {
   "cell_type": "code",
   "execution_count": 47,
   "id": "91109e4e-751d-4823-9f43-762351147b89",
   "metadata": {},
   "outputs": [
    {
     "name": "stdout",
     "output_type": "stream",
     "text": [
      "97.5\n",
      "2148213145872\n",
      "<class 'float'>\n"
     ]
    }
   ],
   "source": [
    "# task 4b\n",
    "marks = 97.5\n",
    "print(marks)\n",
    "print(id(marks))\n",
    "print(type(marks))\n",
    "# task 4c\n",
    "# id of marks in 4a = 2148212325552 != 2148213145872 of id of marks in 4b; coz each execution stores marks in different location"
   ]
  },
  {
   "cell_type": "code",
   "execution_count": 75,
   "id": "a428f5b1-99a8-4c3e-88a3-e762565e6f30",
   "metadata": {},
   "outputs": [
    {
     "name": "stdout",
     "output_type": "stream",
     "text": [
      "97.5 %\n",
      "Riya Nathan\n",
      "Riya Nathan scored 97.5 %\n"
     ]
    }
   ],
   "source": [
    "# 5formatting the output\n",
    "#task 5a\n",
    "maxmarks=100\n",
    "print(100*marks/maxmarks,'%') # concantenation is used for display\n",
    "# task 5b\n",
    "fullname = firstname + ' ' + lastname\n",
    "print(fullname) # fullname stores the contenation & shows as variable\n",
    "#task 5c\n",
    "print(fullname, 'scored', 100*marks/maxmarks,'%')"
   ]
  },
  {
   "cell_type": "code",
   "execution_count": 61,
   "id": "9c78a09e-562c-4a43-a116-02e4bdbbff69",
   "metadata": {},
   "outputs": [
    {
     "ename": "TypeError",
     "evalue": "unsupported operand type(s) for +: 'int' and 'str'",
     "output_type": "error",
     "traceback": [
      "\u001b[1;31m---------------------------------------------------------------------------\u001b[0m",
      "\u001b[1;31mTypeError\u001b[0m                                 Traceback (most recent call last)",
      "Cell \u001b[1;32mIn[61], line 2\u001b[0m\n\u001b[0;32m      1\u001b[0m \u001b[38;5;66;03m# task 6a\u001b[39;00m\n\u001b[1;32m----> 2\u001b[0m \u001b[38;5;28mprint\u001b[39m(\u001b[38;5;241m1\u001b[39m \u001b[38;5;241m+\u001b[39m \u001b[38;5;124m'\u001b[39m\u001b[38;5;124m2\u001b[39m\u001b[38;5;124m'\u001b[39m)\n",
      "\u001b[1;31mTypeError\u001b[0m: unsupported operand type(s) for +: 'int' and 'str'"
     ]
    }
   ],
   "source": [
    "# arithmetic operations\n",
    "# task 6a\n",
    "print(1 + '2') # int & string cannot be added"
   ]
  },
  {
   "cell_type": "code",
   "execution_count": 63,
   "id": "6db7e959-0caf-43f1-becd-f14232981dbe",
   "metadata": {},
   "outputs": [
    {
     "name": "stdout",
     "output_type": "stream",
     "text": [
      "12\n"
     ]
    }
   ],
   "source": [
    "# task 6b\n",
    "print('1' + '2') # here concatenation done coz both numbers are considered as strings"
   ]
  },
  {
   "cell_type": "code",
   "execution_count": 65,
   "id": "7e49a642-36c7-4140-8e6d-e238852fb69d",
   "metadata": {},
   "outputs": [
    {
     "name": "stdout",
     "output_type": "stream",
     "text": [
      "0.5\n"
     ]
    }
   ],
   "source": [
    "# task 6c\n",
    "print(1/2) # divion '/' shows in decimal values"
   ]
  },
  {
   "cell_type": "code",
   "execution_count": 67,
   "id": "1119374f-4f7e-4b1f-8c8d-ad8593e06f22",
   "metadata": {},
   "outputs": [
    {
     "name": "stdout",
     "output_type": "stream",
     "text": [
      "0\n"
     ]
    }
   ],
   "source": [
    "# task 6d\n",
    "print(1//2) # floor divsion shows value as in whole number, only the quatient not round off"
   ]
  },
  {
   "cell_type": "code",
   "execution_count": 71,
   "id": "a7eba71a-6326-44b7-96ae-4e546edfbec6",
   "metadata": {},
   "outputs": [
    {
     "name": "stdout",
     "output_type": "stream",
     "text": [
      "True\n",
      "False\n",
      "True\n",
      "True\n"
     ]
    }
   ],
   "source": [
    "# logical operators\n",
    "# task 7a\n",
    "print(True and True) # true chesck 2 condtn if both are true -> true, coz of 'and' \n",
    "# task 7b\n",
    "print(True and False) # false coz both shld be true in and condtn\n",
    "# task 7c\n",
    "print(True or True) # true coz eitehr 1 shld be true in or condtn\n",
    "# task 7d\n",
    "print(True or False) # true coz eitehr 1 shld be true in or condtn"
   ]
  },
  {
   "cell_type": "code",
   "execution_count": 81,
   "id": "efead5a7-1662-4b2e-a28e-d4af1e45e904",
   "metadata": {},
   "outputs": [
    {
     "name": "stdout",
     "output_type": "stream",
     "text": [
      "True\n",
      "False\n"
     ]
    }
   ],
   "source": [
    "# identity & membership operator\n",
    "# task 8\n",
    "print(firstname in fullname) # true, coz variable firstname is part of fullname\n",
    "print(firstname is fullname) # false, both variable has seperate storage address"
   ]
  },
  {
   "cell_type": "code",
   "execution_count": 83,
   "id": "3832f4bf-ecc5-414c-9639-4a57caf5bbff",
   "metadata": {},
   "outputs": [
    {
     "name": "stdout",
     "output_type": "stream",
     "text": [
      "66\n",
      "1024\n"
     ]
    }
   ],
   "source": [
    "# associativity\n",
    "# task 9\n",
    "a=4\n",
    "b=3\n",
    "c=2\n",
    "d=a**b+c #d goes in order, 1st a**b ie) 4 power 3 is 64 follwed by adding with c => 64+2 = 66\n",
    "e=a**(b+c)  # e 1st adds b,c which is in bracket & then powers result with a by bodmas ie) 3+2=5 power with 4 => 5 power 4 =1025\n",
    "print(d)\n",
    "print(e)"
   ]
  },
  {
   "cell_type": "code",
   "execution_count": null,
   "id": "02e04575-16f8-4edb-a37e-3dd7cf7982cc",
   "metadata": {},
   "outputs": [],
   "source": []
  }
 ],
 "metadata": {
  "kernelspec": {
   "display_name": "Python 3 (ipykernel)",
   "language": "python",
   "name": "python3"
  },
  "language_info": {
   "codemirror_mode": {
    "name": "ipython",
    "version": 3
   },
   "file_extension": ".py",
   "mimetype": "text/x-python",
   "name": "python",
   "nbconvert_exporter": "python",
   "pygments_lexer": "ipython3",
   "version": "3.12.4"
  }
 },
 "nbformat": 4,
 "nbformat_minor": 5
}
