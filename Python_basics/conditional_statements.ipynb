{
 "cells": [
  {
   "cell_type": "code",
   "execution_count": 11,
   "id": "6f953553-3b14-4f79-b858-00948c7a0630",
   "metadata": {},
   "outputs": [
    {
     "name": "stdin",
     "output_type": "stream",
     "text": [
      "Enter any alphabet D\n"
     ]
    },
    {
     "name": "stdout",
     "output_type": "stream",
     "text": [
      "Holiday\n"
     ]
    }
   ],
   "source": [
    "#task1. decision making based on user input\n",
    "alp=input('Enter any alphabet')\n",
    "if alp.upper()=='A': # accepts both 'a' and 'A'\n",
    "    print('Python')\n",
    "elif alp.upper()=='B':\n",
    "    print('MySQL')\n",
    "elif alp.upper()=='C':\n",
    "    print('Excel')\n",
    "else:\n",
    "    print('Holiday')"
   ]
  },
  {
   "cell_type": "code",
   "execution_count": 19,
   "id": "a5888446-e9dd-4fa1-9122-f598277ee21a",
   "metadata": {},
   "outputs": [
    {
     "name": "stdin",
     "output_type": "stream",
     "text": [
      "Enter first number 12\n",
      "Enter second number 12\n"
     ]
    },
    {
     "name": "stdout",
     "output_type": "stream",
     "text": [
      "Both are same number\n"
     ]
    }
   ],
   "source": [
    "# task 2.comparing 2 numbers\n",
    "num1=int(input('Enter first number'))\n",
    "num2=int(input('Enter second number'))\n",
    "if num1>num2:\n",
    "    print('The largest number is', num1)\n",
    "elif num1==num2:\n",
    "    print('Both are same number')\n",
    "else:\n",
    "    print('The largest number is', num2)"
   ]
  },
  {
   "cell_type": "code",
   "execution_count": 1,
   "id": "7cd27f5f-44eb-4eed-b100-b0f74089a8d3",
   "metadata": {},
   "outputs": [
    {
     "name": "stdin",
     "output_type": "stream",
     "text": [
      "Enter your basic salary: 10000\n"
     ]
    },
    {
     "name": "stdout",
     "output_type": "stream",
     "text": [
      "Your gross salary for basic salary 10000 is 144000.0\n"
     ]
    }
   ],
   "source": [
    "#task3. calculate gross salary\n",
    "salary=int(input('Enter your basic salary:'))\n",
    "if salary>0 and salary<=4000:\n",
    "    HRA=salary*0.1\n",
    "    TA=salary*0.05\n",
    "elif salary>4000 and salary<=10000:\n",
    "    HRA=salary*0.1\n",
    "    TA=salary*0.1\n",
    "elif salary>10000:\n",
    "    HRA=salary*0.15\n",
    "    TA=salary*0.15\n",
    "Gross_salary=12*(salary+HRA+TA)\n",
    "print('Your gross salary for basic salary', salary, 'is', Gross_salary)"
   ]
  },
  {
   "cell_type": "code",
   "execution_count": 37,
   "id": "d17c15a5-7a11-407c-adba-24ab2843c37d",
   "metadata": {},
   "outputs": [
    {
     "name": "stdin",
     "output_type": "stream",
     "text": [
      "Enter a word to check whether the word is in the paragraph or not: python\n"
     ]
    },
    {
     "name": "stdout",
     "output_type": "stream",
     "text": [
      "No\n"
     ]
    }
   ],
   "source": [
    "#task4. searching a word in paragraph\n",
    "var='Python is an interpreted, high-level, general-purpose programming language. Its design philosophy emphasizes code readability, with its use of significant indentation. Its language constructs as well as its object-oriented approach aim to help programmers write clear, logical code for small and large-scale projects'\n",
    "word=input('Enter a word to check whether the word is in the paragraph or not:')\n",
    "if word in var:\n",
    "    print('Yes')\n",
    "else:\n",
    "    print('No')"
   ]
  },
  {
   "cell_type": "code",
   "execution_count": 41,
   "id": "c9a01a43-2727-4ab9-9540-0bd196eb4376",
   "metadata": {},
   "outputs": [
    {
     "name": "stdin",
     "output_type": "stream",
     "text": [
      "Enter an alphabet: H\n"
     ]
    },
    {
     "name": "stdout",
     "output_type": "stream",
     "text": [
      "Entered alphabet is in uppercase\n"
     ]
    }
   ],
   "source": [
    "#task5. checking if the character is uppercase or lowercase\n",
    "alpa=input('Enter an alphabet:')\n",
    "if alpa==alpa.upper():\n",
    "    print('Entered alphabet is in uppercase')\n",
    "else:\n",
    "    print('Entered alphabet is in lowercase')"
   ]
  },
  {
   "cell_type": "code",
   "execution_count": 49,
   "id": "8816a50c-fa4e-4e32-8600-6ac70a227f91",
   "metadata": {},
   "outputs": [
    {
     "name": "stdin",
     "output_type": "stream",
     "text": [
      "Enter an alphabet: A\n"
     ]
    },
    {
     "name": "stdout",
     "output_type": "stream",
     "text": [
      "Given alphabet is an vowel\n"
     ]
    }
   ],
   "source": [
    "#tas6. checking if alphabet is a vowel or a consonant\n",
    "alpbt=input('Enter an alphabet:')\n",
    "if alpbt.lower() in ('a', 'e', 'i', 'o', 'u'):\n",
    "    print('Given alphabet is an vowel')\n",
    "else:\n",
    "    print('Given alphabet is consonant')"
   ]
  },
  {
   "cell_type": "code",
   "execution_count": null,
   "id": "a3cf9b44-f038-4096-816f-3ece5f75f588",
   "metadata": {},
   "outputs": [],
   "source": []
  }
 ],
 "metadata": {
  "kernelspec": {
   "display_name": "Python 3 (ipykernel)",
   "language": "python",
   "name": "python3"
  },
  "language_info": {
   "codemirror_mode": {
    "name": "ipython",
    "version": 3
   },
   "file_extension": ".py",
   "mimetype": "text/x-python",
   "name": "python",
   "nbconvert_exporter": "python",
   "pygments_lexer": "ipython3",
   "version": "3.12.4"
  }
 },
 "nbformat": 4,
 "nbformat_minor": 5
}
