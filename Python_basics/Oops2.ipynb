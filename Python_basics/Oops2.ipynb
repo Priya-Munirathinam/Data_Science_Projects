{
 "cells": [
  {
   "cell_type": "code",
   "execution_count": 1,
   "id": "5603c70a-ff85-48df-9de2-7304ea9caa5f",
   "metadata": {},
   "outputs": [],
   "source": [
    "#task 4: order class with methods\n",
    "class Order():\n",
    "    \n",
    "    def __init__(self,customer_name,product_name,price,weight):\n",
    "        self.__customer_name = customer_name\n",
    "        self.product_name = product_name\n",
    "        self.price = price\n",
    "        self.weight = weight\n",
    "        self.orderlist=[]\n",
    "        \n",
    "    def add_items(self):\n",
    "        self.orderlist.append(self.product_name)\n",
    "    def getcustomername(self):\n",
    "        return self.__customer_name\n",
    "    def get_items(self):\n",
    "        return self.orderlist\n",
    "   "
   ]
  },
  {
   "cell_type": "code",
   "execution_count": 3,
   "id": "33e4d196-f218-4c5c-919e-0ca7c95a29b8",
   "metadata": {},
   "outputs": [],
   "source": [
    "#TASK1: create abstract method\n",
    "from abc import ABC , abstractmethod\n",
    "class Product(ABC):\n",
    "    @abstractmethod #task 1\n",
    "    def calculate_total_price(self):\n",
    "        pass"
   ]
  },
  {
   "cell_type": "code",
   "execution_count": 13,
   "id": "8f1d2250-738b-4f7e-9fb0-d277ba797db5",
   "metadata": {},
   "outputs": [
    {
     "name": "stdout",
     "output_type": "stream",
     "text": [
      "Total of 258 for ebook by John\n",
      "items ordered are: ['ebook']\n",
      "Total of 1030 for watch by Rose\n",
      "items ordered are: ['watch']\n",
      "Total of 240.0 for clock by Ria\n",
      "items ordered are: ['clock']\n"
     ]
    }
   ],
   "source": [
    "#task 2: concrete sub class\n",
    "class DigitalProduct(Order,Product): \n",
    "    def __init__(self,customer_name,product_name,price,weight,extra_charge):\n",
    "        super().__init__(customer_name,product_name,price,weight)\n",
    "        self.extra_charge = extra_charge\n",
    "        self.__total_price=0\n",
    "        \n",
    "    def calculate_total_price(self):\n",
    "            self.__total_price=(self.weight*self.price)+self.extra_charge\n",
    "            return self.__total_price\n",
    "        \n",
    "#task 3: concrete sub class\n",
    "class PhysicalProduct(Order,Product): \n",
    "    def __init__(self,customer_name,product_name,price,weight,shipping_charge,delivery_charge):\n",
    "        super().__init__(customer_name,product_name,price,weight)\n",
    "        self.shipping_charge = shipping_charge\n",
    "        self.delivery_charge = delivery_charge\n",
    "        self.__total_price=0\n",
    "        \n",
    "    def calculate_total_price(self):\n",
    "            self.__total_price=(self.weight*self.price)+self.shipping_charge+self.delivery_charge\n",
    "            return self.__total_price\n",
    "        \n",
    "#task 5: main function to instantiate product & display information\n",
    "def main():\n",
    "    orders = [DigitalProduct('John','ebook',120,2,18),PhysicalProduct('Rose','watch',250,4,15,15),PhysicalProduct('Ria','clock',75,3,7.5,7.5)]\n",
    "    for i in orders:\n",
    "        i.add_items()\n",
    "        print(f'Total of {i.calculate_total_price()} for {i.product_name} by {i.getcustomername()}')\n",
    "        print('items ordered are:',i.get_items())\n",
    "   # print('Total items ordered are:', len(self.orderlist))\n",
    "    \n",
    "    #display customer name, items in order, total price fro each product\n",
    "    \n",
    "if __name__ =='__main__':\n",
    "    main()\n",
    "    "
   ]
  },
  {
   "cell_type": "code",
   "execution_count": null,
   "id": "2c89dd92-1567-44fd-8e9d-f0c29c898023",
   "metadata": {},
   "outputs": [],
   "source": []
  }
 ],
 "metadata": {
  "kernelspec": {
   "display_name": "Python 3 (ipykernel)",
   "language": "python",
   "name": "python3"
  },
  "language_info": {
   "codemirror_mode": {
    "name": "ipython",
    "version": 3
   },
   "file_extension": ".py",
   "mimetype": "text/x-python",
   "name": "python",
   "nbconvert_exporter": "python",
   "pygments_lexer": "ipython3",
   "version": "3.12.4"
  }
 },
 "nbformat": 4,
 "nbformat_minor": 5
}
