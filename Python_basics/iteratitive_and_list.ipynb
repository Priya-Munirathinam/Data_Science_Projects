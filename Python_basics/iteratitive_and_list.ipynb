{
 "cells": [
  {
   "cell_type": "code",
   "execution_count": 3,
   "id": "4bd4de3f-86d1-4e3e-9c47-6e9932f5ac94",
   "metadata": {},
   "outputs": [
    {
     "name": "stdout",
     "output_type": "stream",
     "text": [
      "False\n"
     ]
    }
   ],
   "source": [
    "#task1. searching a list\n",
    "mynames=['Joe', 'Zoe', 'world', 'Brad', 'Angelina', 'world', 'Zuki', 'Tom', 'Paris', 'world', 'magic']\n",
    "if 'USA' in mynames:\n",
    "  print(True)\n",
    "else:\n",
    "  print(False)"
   ]
  },
  {
   "cell_type": "code",
   "execution_count": 5,
   "id": "87a14c72-996b-4272-8e71-83809d511a8d",
   "metadata": {},
   "outputs": [
    {
     "name": "stdout",
     "output_type": "stream",
     "text": [
      "world occurs 3 times\n"
     ]
    }
   ],
   "source": [
    "#task2 frequency count of elements in a list\n",
    "count=0\n",
    "for i in mynames:\n",
    "    if i=='world':\n",
    "        count+=1\n",
    "print('world occurs', count, 'times')"
   ]
  },
  {
   "cell_type": "code",
   "execution_count": 6,
   "id": "14522012-c17c-464b-8269-bcc4d6f819bd",
   "metadata": {},
   "outputs": [
    {
     "name": "stdout",
     "output_type": "stream",
     "text": [
      "There are 15 odd numbers and 14 even numbers between range 1 and 30\n"
     ]
    }
   ],
   "source": [
    "#task3 looping over a list\n",
    "numlist=list(range(1,30))\n",
    "c_odd=0\n",
    "c_even=0\n",
    "for i in numlist:\n",
    "    if i%2==0:\n",
    "        c_even+=1\n",
    "    else:\n",
    "        c_odd+=1\n",
    "print('There are', c_odd, 'odd numbers and', c_even, 'even numbers between range 1 and 30')"
   ]
  },
  {
   "cell_type": "code",
   "execution_count": 57,
   "id": "92abbe00-1e05-44b7-8a07-d6f0b4a3f33f",
   "metadata": {},
   "outputs": [
    {
     "name": "stdout",
     "output_type": "stream",
     "text": [
      "[1, 2, 3, 4, 5, 6, 7, 8, 9, 10, 11, 12, 13, 14, 15, 16, 17, 18, 19, 20, 21, 22, 23, 24, 25, 26, 27, 28, 29, [2, 4, 6, 8, 10]]\n",
      "[2, 4, 6, 8, 10]\n"
     ]
    }
   ],
   "source": [
    "#task4 appending elements to a list; use append to add new elements stored in el to numlist\n",
    "el=[]\n",
    "count=0\n",
    "for i in numlist:\n",
    "    if i%2==0:\n",
    "        el.append(i)\n",
    "        count+=1\n",
    "        if count>=5: break\n",
    "numlist.append(el)\n",
    "print(numlist)\n",
    "print(el)"
   ]
  },
  {
   "cell_type": "code",
   "execution_count": 4,
   "id": "1656b3a2-01c8-4898-b942-9256596f3dca",
   "metadata": {},
   "outputs": [
    {
     "name": "stdout",
     "output_type": "stream",
     "text": [
      "29\n",
      "27\n"
     ]
    }
   ],
   "source": [
    "#task5 Arithmetic operation on list elements\n",
    "count=2\n",
    "for i in range(29,1,-1):\n",
    "    if i%2==1:\n",
    "        print(i)\n",
    "        count-=1\n",
    "        if count==0: break"
   ]
  },
  {
   "cell_type": "code",
   "execution_count": 12,
   "id": "f99b9082-6358-48e4-8851-e9c57c4e2d60",
   "metadata": {},
   "outputs": [
    {
     "name": "stdin",
     "output_type": "stream",
     "text": [
      "Enter a number 1\n",
      "Enter a number 1\n",
      "Enter a number 1\n",
      "Enter a number 1\n",
      "Enter a number 1\n",
      "Enter a number 2\n",
      "Enter a number 2\n",
      "Enter a number 2\n"
     ]
    },
    {
     "name": "stdout",
     "output_type": "stream",
     "text": [
      "[1, 1, 1, 1, 1, 2, 2, 2]\n"
     ]
    }
   ],
   "source": [
    "#task6 Appending 2 lists\n",
    "x=[]\n",
    "y=[]\n",
    "for i in range(1,6):\n",
    "    nm=int(input('Enter a number'))\n",
    "    x.append(nm)\n",
    "for j in range(1,4):\n",
    "    nm1=int(input('Enter a number'))\n",
    "    y.append(nm1)\n",
    "x.extend(y)\n",
    "print(x)"
   ]
  },
  {
   "cell_type": "code",
   "execution_count": 14,
   "id": "4eab2d57-9699-4b02-a769-85387b147bbd",
   "metadata": {},
   "outputs": [
    {
     "name": "stdout",
     "output_type": "stream",
     "text": [
      "[1, 4, 9, 16, 25, 36, 49, 64, 81, 100]\n",
      "[900, 961, 1024, 1089, 1156, 1225, 1296, 1369, 1444, 1521, 1600]\n"
     ]
    }
   ],
   "source": [
    "#task7 Populating elements in a list\n",
    "'''list_a= sq of no 1 to 10\n",
    "list_b= sq of no 30 to 40'''\n",
    "list_a=[]\n",
    "list_b=[]\n",
    "for i in range(1,11):\n",
    "    list_a.append(i*i)\n",
    "for j in range(30,41):\n",
    "    list_b.append(j*j)\n",
    "print(list_a)\n",
    "print(list_b)"
   ]
  },
  {
   "cell_type": "code",
   "execution_count": 16,
   "id": "0525fae9-1937-4c77-b9d5-94ffc3c3ebe0",
   "metadata": {},
   "outputs": [
    {
     "name": "stdin",
     "output_type": "stream",
     "text": [
      "Enter a number to display its multiplication table 5\n"
     ]
    },
    {
     "name": "stdout",
     "output_type": "stream",
     "text": [
      "5 x 1 = 5\n",
      "5 x 2 = 10\n",
      "5 x 3 = 15\n",
      "5 x 4 = 20\n",
      "5 x 5 = 25\n",
      "5 x 6 = 30\n",
      "5 x 7 = 35\n",
      "5 x 8 = 40\n",
      "5 x 9 = 45\n",
      "5 x 10 = 50\n"
     ]
    }
   ],
   "source": [
    "#task8 iterations in python using for loop\n",
    "num=int(input('Enter a number to display its multiplication table'))\n",
    "for i in range(1,11):\n",
    "    print(num,'x',i,'=',num*i)"
   ]
  },
  {
   "cell_type": "code",
   "execution_count": null,
   "id": "dfd1599d-dcb3-4d15-a691-73485b79b590",
   "metadata": {},
   "outputs": [],
   "source": []
  }
 ],
 "metadata": {
  "kernelspec": {
   "display_name": "Python 3 (ipykernel)",
   "language": "python",
   "name": "python3"
  },
  "language_info": {
   "codemirror_mode": {
    "name": "ipython",
    "version": 3
   },
   "file_extension": ".py",
   "mimetype": "text/x-python",
   "name": "python",
   "nbconvert_exporter": "python",
   "pygments_lexer": "ipython3",
   "version": "3.12.4"
  }
 },
 "nbformat": 4,
 "nbformat_minor": 5
}
