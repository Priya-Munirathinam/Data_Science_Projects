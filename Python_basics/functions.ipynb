{
 "cells": [
  {
   "cell_type": "code",
   "execution_count": 5,
   "id": "31778618-aca3-4ee9-ad4f-484b41a35852",
   "metadata": {},
   "outputs": [
    {
     "name": "stdin",
     "output_type": "stream",
     "text": [
      "Enter a word rotaTor\n"
     ]
    },
    {
     "name": "stdout",
     "output_type": "stream",
     "text": [
      "Its a palindrome word\n"
     ]
    }
   ],
   "source": [
    "#task1 checking if a word is a palindrome\n",
    "def palindrome_check():\n",
    "    word=input('Enter a word')\n",
    "    rev=word[::-1]\n",
    "    if rev.lower()==word.lower():\n",
    "        print('Its a palindrome word')\n",
    "    else:\n",
    "        print('Not a pallindrome word')\n",
    "        \n",
    "palindrome_check()"
   ]
  },
  {
   "cell_type": "code",
   "execution_count": 25,
   "id": "c0c819e4-96bb-47ec-bfda-0bd93ddf00d0",
   "metadata": {},
   "outputs": [
    {
     "name": "stdout",
     "output_type": "stream",
     "text": [
      "enter 0 to end the entries\n"
     ]
    },
    {
     "name": "stdin",
     "output_type": "stream",
     "text": [
      "enter the word rotator\n"
     ]
    },
    {
     "name": "stdout",
     "output_type": "stream",
     "text": [
      "enter 0 to end the entries\n"
     ]
    },
    {
     "name": "stdin",
     "output_type": "stream",
     "text": [
      "enter the word van\n"
     ]
    },
    {
     "name": "stdout",
     "output_type": "stream",
     "text": [
      "enter 0 to end the entries\n"
     ]
    },
    {
     "name": "stdin",
     "output_type": "stream",
     "text": [
      "enter the word car\n"
     ]
    },
    {
     "name": "stdout",
     "output_type": "stream",
     "text": [
      "enter 0 to end the entries\n"
     ]
    },
    {
     "name": "stdin",
     "output_type": "stream",
     "text": [
      "enter the word axis\n"
     ]
    },
    {
     "name": "stdout",
     "output_type": "stream",
     "text": [
      "enter 0 to end the entries\n"
     ]
    },
    {
     "name": "stdin",
     "output_type": "stream",
     "text": [
      "enter the word 0\n"
     ]
    },
    {
     "name": "stdout",
     "output_type": "stream",
     "text": [
      "['axis', 'car', 'rotator', 'van']\n"
     ]
    }
   ],
   "source": [
    "#task2 sorting words\n",
    "list1=[]\n",
    "def sort_words():\n",
    "    while True:\n",
    "        print('enter 0 to end the entries')\n",
    "        word=input('enter the word')\n",
    "        if word == '0': break\n",
    "        list1.append(word)\n",
    "    print(sorted(list1))\n",
    "\n",
    "sort_words()"
   ]
  },
  {
   "cell_type": "code",
   "execution_count": 13,
   "id": "cbfdebfa-581c-4182-b05e-bf535253b718",
   "metadata": {},
   "outputs": [
    {
     "name": "stdout",
     "output_type": "stream",
     "text": [
      "enter number of characters:\n"
     ]
    },
    {
     "name": "stdin",
     "output_type": "stream",
     "text": [
      "None 3\n",
      "enter charcter c\n",
      "enter charcter a\n",
      "enter charcter t\n"
     ]
    },
    {
     "name": "stdout",
     "output_type": "stream",
     "text": [
      "['c', 'a', 't']\n",
      "cat\n"
     ]
    }
   ],
   "source": [
    "#task3 converting characters to a string\n",
    "def char_toString():\n",
    "    list2=[]\n",
    "    n=int(input(print('enter number of characters:')))\n",
    "    for i in range(1,n+1):\n",
    "        chr=input('enter charcter')\n",
    "        list2.append(chr)\n",
    "    print(list2)\n",
    "    print(''.join(list2))\n",
    "\n",
    "char_toString()"
   ]
  },
  {
   "cell_type": "code",
   "execution_count": 11,
   "id": "144ac28c-8ea0-4b06-b711-677dd9649376",
   "metadata": {},
   "outputs": [
    {
     "name": "stdout",
     "output_type": "stream",
     "text": [
      "enter 10 numbers\n"
     ]
    },
    {
     "name": "stdin",
     "output_type": "stream",
     "text": [
      "enter 1\n",
      "enter 12\n",
      "enter 21\n",
      "enter 33\n",
      "enter 47\n",
      "enter 19\n",
      "enter 5\n",
      "enter 9\n",
      "enter 0\n",
      "enter -15\n"
     ]
    },
    {
     "name": "stdout",
     "output_type": "stream",
     "text": [
      "[1, 12, 21, 33, 47, 19, 5, 9, 0, -15]\n",
      "Maximum value given is 47\n",
      "Minimum value given is -15\n"
     ]
    }
   ],
   "source": [
    "#task4 picking the largest and smallest elements\n",
    "def Max_min_inList():\n",
    "    list3=[]\n",
    "    print('enter 10 numbers')\n",
    "    for i in range(1,11): \n",
    "        x=int(input('enter'))\n",
    "        list3.append(x)\n",
    "    print(list3)\n",
    "    print('Maximum value given is', max(list3))\n",
    "    print('Minimum value given is', min(list3))\n",
    "\n",
    "Max_min_inList()"
   ]
  },
  {
   "cell_type": "code",
   "execution_count": 15,
   "id": "dafa119c-6c08-4a62-8680-6d0a8fce7e4d",
   "metadata": {},
   "outputs": [
    {
     "name": "stdin",
     "output_type": "stream",
     "text": [
      "Enter number of items to be entered: 3\n",
      "Enter the item item1\n",
      "Enter the price of the item 12.34\n",
      "Enter the item item2\n",
      "Enter the price of the item 18.75\n",
      "Enter the item item3\n",
      "Enter the price of the item 42.25\n"
     ]
    },
    {
     "name": "stdout",
     "output_type": "stream",
     "text": [
      "{'item1': 12.34, 'item2': 18.75, 'item3': 42.25}\n",
      "maximum price is 42.25\n",
      "minmum price is 12.34\n"
     ]
    }
   ],
   "source": [
    "#task5 searching a dictionary\n",
    "def dict_search():\n",
    "    dict1={}\n",
    "    n=int(input('Enter number of items to be entered:'))\n",
    "    for i in range(1,n+1):\n",
    "        key=input('Enter the item')\n",
    "        value=float(input('Enter the price of the item'))\n",
    "        dict1.update({key:value})\n",
    "    print(dict1)\n",
    "    print('maximum price is', max(dict1.values()))\n",
    "    print('minmum price is', min(dict1.values())) \n",
    "\n",
    "dict_search()   "
   ]
  },
  {
   "cell_type": "code",
   "execution_count": 1,
   "id": "dc4e515a-d11d-4dbe-bc87-53591da0ff99",
   "metadata": {},
   "outputs": [
    {
     "name": "stdin",
     "output_type": "stream",
     "text": [
      "Enter your name: sonia\n",
      "Enter your age: 26\n",
      "Enter gender: female\n",
      "Enter your occupation: banker\n"
     ]
    },
    {
     "name": "stdout",
     "output_type": "stream",
     "text": [
      "Profile card:- \n",
      "Name: sonia \n",
      "Age: 26 \n",
      "Gender: female \n",
      "Occupation: banker\n"
     ]
    }
   ],
   "source": [
    "#task6 generating a profile card\n",
    "def func2(n,a,g,o):\n",
    "    print('Profile card:-','\\nName:',n,'\\nAge:',a,'\\nGender:',g,'\\nOccupation:',o)\n",
    "\n",
    "def func1():\n",
    "    name=input('Enter your name:')\n",
    "    age=int(input('Enter your age:'))\n",
    "    gender = input('Enter gender:')\n",
    "    occupation=input('Enter your occupation:')\n",
    "    func2(name, age, gender, occupation)\n",
    "\n",
    "func1()"
   ]
  },
  {
   "cell_type": "code",
   "execution_count": 9,
   "id": "e788a712-aa58-48f2-ba12-a76c3c44f516",
   "metadata": {},
   "outputs": [
    {
     "name": "stdout",
     "output_type": "stream",
     "text": [
      "[('green', 1), ('blue', 2), ('yellow', 3), ('black', 4), ('red', 5)]\n"
     ]
    }
   ],
   "source": [
    "#task7 sorting color frequency in tuples\n",
    "color=[('black',4), ('green',1), ('red',5), ('blue',2), ('yellow',3)]\n",
    "color.sort(key=lambda x: x[1])\n",
    "print(color)"
   ]
  },
  {
   "cell_type": "code",
   "execution_count": 67,
   "id": "9dd30c79-5855-4b91-aa2a-b1ccd209aff0",
   "metadata": {},
   "outputs": [
    {
     "name": "stdout",
     "output_type": "stream",
     "text": [
      "['Mandy']\n"
     ]
    }
   ],
   "source": [
    "#task8 common data elements in two lists\n",
    "a=['Andy','Mandy','Sandy']\n",
    "b=['Handy','Burgundy','Mandy']\n",
    "\n",
    "new=list(filter(lambda x:x in b, a))\n",
    "print(new)"
   ]
  },
  {
   "cell_type": "code",
   "execution_count": 5,
   "id": "b7f04a53-6b37-4ce4-a0b2-97fa9fbfc1d9",
   "metadata": {},
   "outputs": [
    {
     "name": "stdin",
     "output_type": "stream",
     "text": [
      "enter the length of list: 2\n",
      "enter number 12\n",
      "enter number 13\n"
     ]
    },
    {
     "name": "stdout",
     "output_type": "stream",
     "text": [
      "Now, enter for the 2nd list\n"
     ]
    },
    {
     "name": "stdin",
     "output_type": "stream",
     "text": [
      "enter number 14\n",
      "enter number 15\n"
     ]
    },
    {
     "name": "stdout",
     "output_type": "stream",
     "text": [
      "Sum of two list is [26, 28]\n"
     ]
    }
   ],
   "source": [
    "#task9 Map function with lambda expression\n",
    "num=int(input('enter the length of list:'))\n",
    "c=[]\n",
    "d=[]\n",
    "for i in range (1,num+1):\n",
    "    elt=int(input('enter number'))\n",
    "    c.append(elt)\n",
    "print('Now, enter for the 2nd list')\n",
    "for j in range (1,num+1):\n",
    "    elt=int(input('enter number'))\n",
    "    d.append(elt)\n",
    "add_fn=list(map(lambda x,y:x+y ,c,d))\n",
    "print('Sum of two list is', add_fn)"
   ]
  },
  {
   "cell_type": "code",
   "execution_count": 61,
   "id": "8317113f-fe27-4e2f-830d-1fed28b8f5e6",
   "metadata": {},
   "outputs": [
    {
     "name": "stdin",
     "output_type": "stream",
     "text": [
      "enter your date of birth in the order MM-DD-YYYY: 12-02-2002\n",
      "enter your date of joining: 05-05-2019\n"
     ]
    },
    {
     "data": {
      "text/plain": [
       "False"
      ]
     },
     "execution_count": 61,
     "metadata": {},
     "output_type": "execute_result"
    }
   ],
   "source": [
    "#task10 working with dates\n",
    "def date_calc():\n",
    "    dob=input('enter your date of birth in the order MM-DD-YYYY:')\n",
    "    doj=input('enter your date of joining:')\n",
    "    dobList=dob.split('-')\n",
    "    dojList=doj.split('-')\n",
    "    if int(dojList[2])-int(dobList[2]) >=18:\n",
    "        return True\n",
    "    else:\n",
    "        return False\n",
    "\n",
    "date_calc()"
   ]
  }
 ],
 "metadata": {
  "kernelspec": {
   "display_name": "Python 3 (ipykernel)",
   "language": "python",
   "name": "python3"
  },
  "language_info": {
   "codemirror_mode": {
    "name": "ipython",
    "version": 3
   },
   "file_extension": ".py",
   "mimetype": "text/x-python",
   "name": "python",
   "nbconvert_exporter": "python",
   "pygments_lexer": "ipython3",
   "version": "3.12.4"
  }
 },
 "nbformat": 4,
 "nbformat_minor": 5
}
