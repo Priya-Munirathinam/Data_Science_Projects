{
 "cells": [
  {
   "cell_type": "code",
   "execution_count": 1,
   "id": "eac5a4c5-972a-42ec-88a9-7545cbf458ed",
   "metadata": {},
   "outputs": [
    {
     "name": "stdin",
     "output_type": "stream",
     "text": [
      "Enter a number to show its factorial value: 5\n"
     ]
    },
    {
     "name": "stdout",
     "output_type": "stream",
     "text": [
      "factorial of given number is 120\n"
     ]
    }
   ],
   "source": [
    "#task1 factorial of a number\n",
    "n=int(input('Enter a number to show its factorial value:'))\n",
    "i=1\n",
    "prod=1\n",
    "while i<=n:\n",
    "    prod*=i\n",
    "    i+=1\n",
    "print('factorial of given number is', prod)"
   ]
  },
  {
   "cell_type": "code",
   "execution_count": 19,
   "id": "70b320f7-d070-4a5e-93d1-a1adc3d352c2",
   "metadata": {},
   "outputs": [
    {
     "name": "stdin",
     "output_type": "stream",
     "text": [
      "Enter the number: 50\n"
     ]
    },
    {
     "name": "stdout",
     "output_type": "stream",
     "text": [
      "Not a prime number\n"
     ]
    }
   ],
   "source": [
    "#task2 Prime numbers: check for 50 51\n",
    "i=2\n",
    "n= int(input('Enter the number:'))\n",
    "while i<n:\n",
    "   if n%i==0:\n",
    "       resp='Not a prime number'\n",
    "       break\n",
    "   else:\n",
    "       resp='Is a prime number'\n",
    "   i+=1\n",
    "print(resp)"
   ]
  },
  {
   "cell_type": "code",
   "execution_count": 5,
   "id": "3470043c-cad3-48fd-8623-53d6c3a0568f",
   "metadata": {},
   "outputs": [
    {
     "name": "stdin",
     "output_type": "stream",
     "text": [
      "Enter a 5 digit number 18876\n"
     ]
    },
    {
     "name": "stdout",
     "output_type": "stream",
     "text": [
      "The sum of the 5 digits are: 30\n"
     ]
    }
   ],
   "source": [
    "#task3 sum of all digits\n",
    "numb=input('Enter a 5 digit number')\n",
    "i=0\n",
    "sum=0\n",
    "while i<5:\n",
    "    sum=sum+int(numb[i])\n",
    "    i+=1\n",
    "print('The sum of the 5 digits are:', sum)"
   ]
  },
  {
   "cell_type": "code",
   "execution_count": 7,
   "id": "3e291156-a38d-4229-9554-7378ae4c1b03",
   "metadata": {},
   "outputs": [
    {
     "name": "stdin",
     "output_type": "stream",
     "text": [
      "How many numbers in fibonacci series do you need? 8\n"
     ]
    },
    {
     "name": "stdout",
     "output_type": "stream",
     "text": [
      "0 1 1 2 3 5 8 13 "
     ]
    }
   ],
   "source": [
    "#task4 Fibonacci series\n",
    "a=0\n",
    "b=1\n",
    "sum=0\n",
    "count=0\n",
    "n=int(input('How many numbers in fibonacci series do you need?'))\n",
    "while count<n:\n",
    "    print(a, end=' ')\n",
    "    sum=a+b\n",
    "    a=b\n",
    "    b=sum\n",
    "    count+=1\n"
   ]
  },
  {
   "cell_type": "code",
   "execution_count": 9,
   "id": "023eca1e-3d1c-48c7-b583-c7345ccb7093",
   "metadata": {},
   "outputs": [
    {
     "name": "stdout",
     "output_type": "stream",
     "text": [
      "2271093911872\n",
      "2271111636224\n",
      "2271069334848\n"
     ]
    }
   ],
   "source": [
    "#task5 Adding two tuples\n",
    "t1=(1,2,3)\n",
    "t2=(4,5,6)\n",
    "print(id(t1)) #2271093911872\n",
    "print(id(t2)) #2271111636224\n",
    "t1=t1+t2\n",
    "print(id(t1)) #2271069334848\n",
    "# The unique identifier of t1 changes when the tuple is inserted with another. ie) memory address changes when storing the old and new tuple combined\n",
    "#The initial tuple t1 is modified and stored, giving a new identifier to that tuple t1"
   ]
  },
  {
   "cell_type": "code",
   "execution_count": 21,
   "id": "e73d4304-c7d0-4e11-9f86-9e552aff927a",
   "metadata": {},
   "outputs": [
    {
     "name": "stdout",
     "output_type": "stream",
     "text": [
      "{70, 10, 20, 30, 33, 40, 50, 55, 60}\n",
      "[33, 40, 55, 60, 70]\n"
     ]
    }
   ],
   "source": [
    "#task6 Inserting data into sets\n",
    "m={10,20,30,40,50} #set\n",
    "n=[33,40,55,60,70] #list\n",
    "for i in n:\n",
    "    m.add(i)\n",
    "print(m)\n",
    "print(n)\n",
    "# the common element 40 from both m and n occurs only once in final set m, because duplication is not allowed in set"
   ]
  },
  {
   "cell_type": "code",
   "execution_count": 31,
   "id": "d9a39c60-5896-4f40-892f-401558cd7be1",
   "metadata": {},
   "outputs": [
    {
     "name": "stdout",
     "output_type": "stream",
     "text": [
      "Data: 2\n",
      "SQL: 4\n"
     ]
    }
   ],
   "source": [
    "#task7 Iterating over dictionary data\n",
    "Data_Set={'Python':1, 'Data':2, 'Excel':3, 'SQL':4}\n",
    "for i in Data_Set:\n",
    "    if Data_Set[i]%2==1: continue\n",
    "    print(f\"{i}: {Data_Set[i]}\")"
   ]
  },
  {
   "cell_type": "code",
   "execution_count": 1,
   "id": "b946a2b0-1ce9-4234-9e6e-ad41fc05311d",
   "metadata": {},
   "outputs": [
    {
     "name": "stdout",
     "output_type": "stream",
     "text": [
      "{1: 1, 2: 4, 3: 9, 4: 16, 5: 25, 6: 36, 7: 49, 8: 64, 9: 81, 10: 100, 11: 121, 12: 144, 13: 169, 14: 196, 15: 225}\n",
      "Updated {1: 1, 2: 4, 3: 9, 4: 16, 5: 25, 6: 36, 7: 49, 8: 64, 9: 81, 10: 100, 11: 121, 12: 144, 13: 169, 14: 196, 15: 225, 100: 10000}\n"
     ]
    }
   ],
   "source": [
    "#task8 populating a dictionary data structure\n",
    "D={}\n",
    "i=1\n",
    "while i<=15:\n",
    "    D.update({i:i*i})\n",
    "    i+=1\n",
    "print(D)\n",
    "D.update({100:10000})\n",
    "print('Updated', D)"
   ]
  }
 ],
 "metadata": {
  "kernelspec": {
   "display_name": "Python 3 (ipykernel)",
   "language": "python",
   "name": "python3"
  },
  "language_info": {
   "codemirror_mode": {
    "name": "ipython",
    "version": 3
   },
   "file_extension": ".py",
   "mimetype": "text/x-python",
   "name": "python",
   "nbconvert_exporter": "python",
   "pygments_lexer": "ipython3",
   "version": "3.12.4"
  }
 },
 "nbformat": 4,
 "nbformat_minor": 5
}
