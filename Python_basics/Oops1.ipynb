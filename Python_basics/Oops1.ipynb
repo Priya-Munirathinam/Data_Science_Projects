{
 "cells": [
  {
   "cell_type": "code",
   "execution_count": 72,
   "id": "92cbb104-3300-499b-8101-1f04773a5e8e",
   "metadata": {},
   "outputs": [
    {
     "name": "stdout",
     "output_type": "stream",
     "text": [
      "Report Card: \n",
      " Id: 101 \n",
      " Name: Priya \n",
      " Course: Maths \n",
      " Age: 25 \n",
      " Marks: 87.5% \n",
      " grade: Grade A\n"
     ]
    }
   ],
   "source": [
    "#task1 create class= student; attributes=id, name,course, subject, marks, grade(default)\n",
    "class student:\n",
    "    def __init__(self, enrollment_ID, student_name, course_name, age, marks):\n",
    "        self.enrollment_ID = enrollment_ID\n",
    "        self.student_name = student_name\n",
    "        self.course_name = course_name\n",
    "        self.age = age\n",
    "        self.marks = marks\n",
    "        self.grade = 'None'\n",
    "        \n",
    "    def age_validation(self): #task2 age_validation method\n",
    "        if self.age>0:\n",
    "            if self.age>60 or self.age<3:\n",
    "                print('Invalid age entered')\n",
    "                self.age='Null'\n",
    "        else:\n",
    "            print('Age cannot be negative')\n",
    "            self.age='Null'\n",
    "        return self.age\n",
    "        \n",
    "    def validate_and_convert_marks(self): #task3 marks validation method\n",
    "        if 0<self.marks<=44:\n",
    "            self.marks=round(100*(self.marks/44),2)\n",
    "            return self.marks\n",
    "        else:\n",
    "            print('Invalid Marks')\n",
    "            self.marks=0\n",
    "            return self.marks\n",
    "            \n",
    "    def calculate_grade(self): #task4 grade calculation\n",
    "        if self.marks>100:\n",
    "            self.grade = 'Impossible'\n",
    "        elif 80<self.marks<=100:\n",
    "            self.grade = 'Grade A'\n",
    "        elif 60<self.marks<=80:\n",
    "            self.grade = 'Grade B'\n",
    "        elif 40<self.marks<=60:\n",
    "            self.grade = 'Grade C'\n",
    "        elif 20<self.marks<=40:\n",
    "            self.grade ='Grade D'\n",
    "        elif 0<self.marks<=20:\n",
    "            self.grade = 'Grade F'\n",
    "        else:\n",
    "            self.grade = 'Invalid'\n",
    "        return self.grade\n",
    "        \n",
    "    def display_report(self): #task5 display student performance method\n",
    "        print(f'Report Card: \\n Id: {self.enrollment_ID} \\n Name: {self.student_name} \\n Course: {self.course_name} \\n Age: {self.age} \\n Marks: {self.marks}% \\n grade: {self.grade}')\n",
    "\n",
    "st=student(101,'Priya','Maths',25,38.5)\n",
    "\n",
    "st.age_validation()\n",
    "st.validate_and_convert_marks()\n",
    "st.calculate_grade()\n",
    "st.display_report()"
   ]
  },
  {
   "cell_type": "code",
   "execution_count": 70,
   "id": "e7d6fe05-c097-4ad5-a77f-b60f2e2ae612",
   "metadata": {},
   "outputs": [
    {
     "name": "stdin",
     "output_type": "stream",
     "text": [
      "Enter the enrollment ID: 101\n"
     ]
    },
    {
     "name": "stdout",
     "output_type": "stream",
     "text": [
      "Enter end to stop entering the guardian names\n"
     ]
    },
    {
     "name": "stdin",
     "output_type": "stream",
     "text": [
      "Enter the guardian Name: Priya\n"
     ]
    },
    {
     "name": "stdout",
     "output_type": "stream",
     "text": [
      "successfully added the guardian\n"
     ]
    },
    {
     "name": "stdin",
     "output_type": "stream",
     "text": [
      "Enter the guardian Name: Sonia\n"
     ]
    },
    {
     "name": "stdout",
     "output_type": "stream",
     "text": [
      "successfully added the guardian\n"
     ]
    },
    {
     "name": "stdin",
     "output_type": "stream",
     "text": [
      "Enter the guardian Name: end\n"
     ]
    },
    {
     "name": "stdout",
     "output_type": "stream",
     "text": [
      "-------\n",
      "The guardian list are ['Priya', 'Sonia']\n",
      "Total 2\n",
      "-------\n",
      "contact information of guardian 1\n"
     ]
    },
    {
     "name": "stdin",
     "output_type": "stream",
     "text": [
      "Do you want to enter the number for guardian yes\n",
      "Enter the mobile number: 1234567\n"
     ]
    },
    {
     "name": "stdout",
     "output_type": "stream",
     "text": [
      "Mobile number updated successfully\n"
     ]
    },
    {
     "name": "stdin",
     "output_type": "stream",
     "text": [
      "Do you want to enter the number for guardian no\n"
     ]
    },
    {
     "name": "stdout",
     "output_type": "stream",
     "text": [
      "contact information of guardian 2\n"
     ]
    },
    {
     "name": "stdin",
     "output_type": "stream",
     "text": [
      "Do you want to enter the number for guardian yes\n",
      "Enter the mobile number: 8901234\n"
     ]
    },
    {
     "name": "stdout",
     "output_type": "stream",
     "text": [
      "Mobile number updated successfully\n"
     ]
    },
    {
     "name": "stdin",
     "output_type": "stream",
     "text": [
      "Do you want to enter the number for guardian yes\n",
      "Enter the mobile number: 5678901\n"
     ]
    },
    {
     "name": "stdout",
     "output_type": "stream",
     "text": [
      "Mobile number updated successfully\n"
     ]
    },
    {
     "name": "stdin",
     "output_type": "stream",
     "text": [
      "Do you want to enter the number for guardian no\n"
     ]
    },
    {
     "name": "stdout",
     "output_type": "stream",
     "text": [
      "----------\n",
      "contact numbers are: [['1234567'], ['8901234', '5678901']]\n",
      "----------\n",
      "enrollment_ID: guardian_name       contact_number\n",
      "       101      Priya                    ['1234567']\n",
      "       101      Sonia         ['8901234', '5678901']\n"
     ]
    }
   ],
   "source": [
    "#task6 \n",
    "class Guardian:\n",
    "    Total_guardian=0\n",
    "    guardianList=[]\n",
    "    mobileList=[]\n",
    "    \n",
    "    def __init__(self): #task 6a: create constructor\n",
    "        self.enrollment_ID=input('Enter the enrollment ID:')\n",
    "\n",
    "    @classmethod  #task 6b: class method called add_guardian\n",
    "    def add_guardian(cls):\n",
    "        \n",
    "        print('Enter end to stop entering the guardian names')\n",
    "        while True:\n",
    "            guardian_name=input('Enter the guardian Name:')\n",
    "            if guardian_name=='end': break\n",
    "            cls.guardianList.append(guardian_name)\n",
    "            cls.Total_guardian +=1\n",
    "            print('successfully added the guardian')\n",
    "        print('-------')\n",
    "        print('The guardian list are',cls.guardianList)\n",
    "        print('Total',cls.Total_guardian)\n",
    "        print('-------')\n",
    "        return cls.Total_guardian   \n",
    "\n",
    "    @staticmethod  #task 6c: static method called mabile()\n",
    "    def mobile():\n",
    "        \n",
    "        for i in range(Guardian.Total_guardian):\n",
    "            print('contact information of guardian',i+1)\n",
    "            mobi=[]\n",
    "            while True:\n",
    "                ans=input('Do you want to enter the number for guardian')\n",
    "                if ans=='no': break\n",
    "                mobile_no=input('Enter the mobile number:')\n",
    "                if len(mobile_no)==7 and mobile_no.isdigit():\n",
    "                    mobi.append(mobile_no)\n",
    "                    print('Mobile number updated successfully')\n",
    "                else:\n",
    "                    print('Invalid mobile number')\n",
    "            Guardian.mobileList.append(mobi)\n",
    "        print('----------')\n",
    "        print('contact numbers are:',Guardian.mobileList)\n",
    "        print('----------')\n",
    "\n",
    "    def display(self):\n",
    "        print('%10s %10s %20s' %('enrollment_ID:','guardian_name','contact_number'))\n",
    "        for i in range(Guardian.Total_guardian):\n",
    "            print('%10s %10s %30s' %(self.enrollment_ID, Guardian.guardianList[i], Guardian.mobileList[i]))\n",
    "    \n",
    "    \n",
    "g1=Guardian()\n",
    "g1.add_guardian()\n",
    "g1.mobile()\n",
    "g1.display()"
   ]
  }
 ],
 "metadata": {
  "kernelspec": {
   "display_name": "Python 3 (ipykernel)",
   "language": "python",
   "name": "python3"
  },
  "language_info": {
   "codemirror_mode": {
    "name": "ipython",
    "version": 3
   },
   "file_extension": ".py",
   "mimetype": "text/x-python",
   "name": "python",
   "nbconvert_exporter": "python",
   "pygments_lexer": "ipython3",
   "version": "3.12.4"
  }
 },
 "nbformat": 4,
 "nbformat_minor": 5
}
