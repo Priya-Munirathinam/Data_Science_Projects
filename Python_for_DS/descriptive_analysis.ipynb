{
 "cells": [
  {
   "cell_type": "code",
   "execution_count": 1,
   "id": "1e421839-6970-4911-8982-8341dc4c2fc6",
   "metadata": {},
   "outputs": [],
   "source": [
    "import pandas as pd\n",
    "import statistics as st\n",
    "import matplotlib.pyplot as plt"
   ]
  },
  {
   "cell_type": "code",
   "execution_count": 3,
   "id": "960896f1-d7ae-4e0a-9610-8e22f534c09b",
   "metadata": {},
   "outputs": [
    {
     "data": {
      "text/html": [
       "<div>\n",
       "<style scoped>\n",
       "    .dataframe tbody tr th:only-of-type {\n",
       "        vertical-align: middle;\n",
       "    }\n",
       "\n",
       "    .dataframe tbody tr th {\n",
       "        vertical-align: top;\n",
       "    }\n",
       "\n",
       "    .dataframe thead th {\n",
       "        text-align: right;\n",
       "    }\n",
       "</style>\n",
       "<table border=\"1\" class=\"dataframe\">\n",
       "  <thead>\n",
       "    <tr style=\"text-align: right;\">\n",
       "      <th></th>\n",
       "      <th>Statistics</th>\n",
       "      <th>Python</th>\n",
       "      <th>Tableau</th>\n",
       "    </tr>\n",
       "  </thead>\n",
       "  <tbody>\n",
       "    <tr>\n",
       "      <th>0</th>\n",
       "      <td>61</td>\n",
       "      <td>86</td>\n",
       "      <td>66</td>\n",
       "    </tr>\n",
       "    <tr>\n",
       "      <th>1</th>\n",
       "      <td>54</td>\n",
       "      <td>86</td>\n",
       "      <td>72</td>\n",
       "    </tr>\n",
       "    <tr>\n",
       "      <th>2</th>\n",
       "      <td>56</td>\n",
       "      <td>80</td>\n",
       "      <td>78</td>\n",
       "    </tr>\n",
       "    <tr>\n",
       "      <th>3</th>\n",
       "      <td>54</td>\n",
       "      <td>85</td>\n",
       "      <td>45</td>\n",
       "    </tr>\n",
       "    <tr>\n",
       "      <th>4</th>\n",
       "      <td>53</td>\n",
       "      <td>84</td>\n",
       "      <td>68</td>\n",
       "    </tr>\n",
       "    <tr>\n",
       "      <th>...</th>\n",
       "      <td>...</td>\n",
       "      <td>...</td>\n",
       "      <td>...</td>\n",
       "    </tr>\n",
       "    <tr>\n",
       "      <th>95</th>\n",
       "      <td>60</td>\n",
       "      <td>76</td>\n",
       "      <td>64</td>\n",
       "    </tr>\n",
       "    <tr>\n",
       "      <th>96</th>\n",
       "      <td>59</td>\n",
       "      <td>89</td>\n",
       "      <td>70</td>\n",
       "    </tr>\n",
       "    <tr>\n",
       "      <th>97</th>\n",
       "      <td>62</td>\n",
       "      <td>80</td>\n",
       "      <td>46</td>\n",
       "    </tr>\n",
       "    <tr>\n",
       "      <th>98</th>\n",
       "      <td>58</td>\n",
       "      <td>89</td>\n",
       "      <td>74</td>\n",
       "    </tr>\n",
       "    <tr>\n",
       "      <th>99</th>\n",
       "      <td>67</td>\n",
       "      <td>77</td>\n",
       "      <td>70</td>\n",
       "    </tr>\n",
       "  </tbody>\n",
       "</table>\n",
       "<p>100 rows × 3 columns</p>\n",
       "</div>"
      ],
      "text/plain": [
       "    Statistics  Python  Tableau\n",
       "0           61      86       66\n",
       "1           54      86       72\n",
       "2           56      80       78\n",
       "3           54      85       45\n",
       "4           53      84       68\n",
       "..         ...     ...      ...\n",
       "95          60      76       64\n",
       "96          59      89       70\n",
       "97          62      80       46\n",
       "98          58      89       74\n",
       "99          67      77       70\n",
       "\n",
       "[100 rows x 3 columns]"
      ]
     },
     "execution_count": 3,
     "metadata": {},
     "output_type": "execute_result"
    }
   ],
   "source": [
    "mark_df=pd.read_csv('DS1_C4_S7_Students_Scores_Data_Practice.csv')\n",
    "mark_df"
   ]
  },
  {
   "cell_type": "code",
   "execution_count": 5,
   "id": "d6decdec-36dc-45c9-935b-3140b7fe6643",
   "metadata": {},
   "outputs": [],
   "source": [
    "#task1 Calculate central tendencies\n",
    "Mean=[]\n",
    "Median=[]\n",
    "Mode=[]\n",
    "for col in mark_df:\n",
    "    Mean.append(mark_df.loc[:,col].mean())\n",
    "    Median.append(mark_df.loc[:,col].median())\n",
    "    Mode.append(st.mode(mark_df[col]))"
   ]
  },
  {
   "cell_type": "code",
   "execution_count": 7,
   "id": "b547d078-114f-485e-91ca-be068dc42922",
   "metadata": {},
   "outputs": [
    {
     "data": {
      "text/html": [
       "<div>\n",
       "<style scoped>\n",
       "    .dataframe tbody tr th:only-of-type {\n",
       "        vertical-align: middle;\n",
       "    }\n",
       "\n",
       "    .dataframe tbody tr th {\n",
       "        vertical-align: top;\n",
       "    }\n",
       "\n",
       "    .dataframe thead th {\n",
       "        text-align: right;\n",
       "    }\n",
       "</style>\n",
       "<table border=\"1\" class=\"dataframe\">\n",
       "  <thead>\n",
       "    <tr style=\"text-align: right;\">\n",
       "      <th></th>\n",
       "      <th>Measures</th>\n",
       "      <th>Statistics</th>\n",
       "      <th>Python</th>\n",
       "      <th>Tableau</th>\n",
       "    </tr>\n",
       "  </thead>\n",
       "  <tbody>\n",
       "    <tr>\n",
       "      <th>0</th>\n",
       "      <td>Mean</td>\n",
       "      <td>60.89</td>\n",
       "      <td>81.84</td>\n",
       "      <td>68.02</td>\n",
       "    </tr>\n",
       "    <tr>\n",
       "      <th>1</th>\n",
       "      <td>Median</td>\n",
       "      <td>60.00</td>\n",
       "      <td>82.00</td>\n",
       "      <td>69.00</td>\n",
       "    </tr>\n",
       "    <tr>\n",
       "      <th>2</th>\n",
       "      <td>Mode</td>\n",
       "      <td>55.00</td>\n",
       "      <td>86.00</td>\n",
       "      <td>65.00</td>\n",
       "    </tr>\n",
       "  </tbody>\n",
       "</table>\n",
       "</div>"
      ],
      "text/plain": [
       "  Measures  Statistics  Python  Tableau\n",
       "0     Mean       60.89   81.84    68.02\n",
       "1   Median       60.00   82.00    69.00\n",
       "2     Mode       55.00   86.00    65.00"
      ]
     },
     "execution_count": 7,
     "metadata": {},
     "output_type": "execute_result"
    }
   ],
   "source": [
    "row_head=['Mean','Median','Mode']\n",
    "col_name=['Statistics','Python','Tableau']\n",
    "c_data=pd.DataFrame([Mean,Median,Mode],columns=col_name)\n",
    "c_data.insert(0,'Measures',row_head,True)\n",
    "c_data"
   ]
  },
  {
   "cell_type": "raw",
   "id": "364affcf-4b64-4e86-b882-a5a34b72a04e",
   "metadata": {},
   "source": [
    "interpretation:\n",
    "Considering all techniques to calculate central tendecies, Python has the best performance\n",
    "while Statistics does poor performance comparitively"
   ]
  },
  {
   "cell_type": "code",
   "execution_count": 9,
   "id": "82720c09-c33c-460c-9a5c-bc1322191502",
   "metadata": {},
   "outputs": [
    {
     "data": {
      "text/html": [
       "<div>\n",
       "<style scoped>\n",
       "    .dataframe tbody tr th:only-of-type {\n",
       "        vertical-align: middle;\n",
       "    }\n",
       "\n",
       "    .dataframe tbody tr th {\n",
       "        vertical-align: top;\n",
       "    }\n",
       "\n",
       "    .dataframe thead th {\n",
       "        text-align: right;\n",
       "    }\n",
       "</style>\n",
       "<table border=\"1\" class=\"dataframe\">\n",
       "  <thead>\n",
       "    <tr style=\"text-align: right;\">\n",
       "      <th></th>\n",
       "      <th>Dispersion</th>\n",
       "      <th>Statistics</th>\n",
       "      <th>Python</th>\n",
       "      <th>Tableau</th>\n",
       "    </tr>\n",
       "  </thead>\n",
       "  <tbody>\n",
       "    <tr>\n",
       "      <th>0</th>\n",
       "      <td>Mean</td>\n",
       "      <td>60.890000</td>\n",
       "      <td>81.840000</td>\n",
       "      <td>68.020000</td>\n",
       "    </tr>\n",
       "    <tr>\n",
       "      <th>1</th>\n",
       "      <td>Std deviation</td>\n",
       "      <td>7.236126</td>\n",
       "      <td>4.345484</td>\n",
       "      <td>7.320899</td>\n",
       "    </tr>\n",
       "    <tr>\n",
       "      <th>2</th>\n",
       "      <td>Variance</td>\n",
       "      <td>52.361515</td>\n",
       "      <td>18.883232</td>\n",
       "      <td>53.595556</td>\n",
       "    </tr>\n",
       "    <tr>\n",
       "      <th>3</th>\n",
       "      <td>Co-Variation</td>\n",
       "      <td>11.883931</td>\n",
       "      <td>5.309731</td>\n",
       "      <td>10.762862</td>\n",
       "    </tr>\n",
       "  </tbody>\n",
       "</table>\n",
       "</div>"
      ],
      "text/plain": [
       "      Dispersion  Statistics     Python    Tableau\n",
       "0           Mean   60.890000  81.840000  68.020000\n",
       "1  Std deviation    7.236126   4.345484   7.320899\n",
       "2       Variance   52.361515  18.883232  53.595556\n",
       "3   Co-Variation   11.883931   5.309731  10.762862"
      ]
     },
     "execution_count": 9,
     "metadata": {},
     "output_type": "execute_result"
    }
   ],
   "source": [
    "#task2: Measure of dispersion calculation\n",
    "Mean=[]\n",
    "SD=[]\n",
    "CV=[]\n",
    "var=[]\n",
    "for col in mark_df:\n",
    "    col_mean=mark_df.loc[:,col].mean()\n",
    "    Mean.append(col_mean)\n",
    "    col_sd=mark_df.loc[:,col].std()\n",
    "    SD.append(col_sd)\n",
    "    CV.append(col_sd/col_mean * 100)\n",
    "    var.append(st.variance(mark_df[col]))\n",
    "\n",
    "row_head=['Mean','Std deviation','Variance','Co-Variation']\n",
    "col_name=['Statistics','Python','Tableau']\n",
    "d_data=pd.DataFrame([Mean,SD,var,CV],columns=col_name)\n",
    "d_data.insert(0,'Dispersion',row_head,True)\n",
    "d_data"
   ]
  },
  {
   "cell_type": "raw",
   "id": "8b18f9d4-729b-4d26-9d1e-ddf2b7530d82",
   "metadata": {},
   "source": [
    "interpretation:\n",
    "python has less variation ie) standard deviation and coeficient of variation, compared to tableau & statistics\n",
    "while Statistics has more spread or distribution comparitively"
   ]
  },
  {
   "cell_type": "code",
   "execution_count": 42,
   "id": "fa1d5729-be1a-43c1-8d9a-2a25867160cf",
   "metadata": {},
   "outputs": [
    {
     "data": {
      "text/html": [
       "<div>\n",
       "<style scoped>\n",
       "    .dataframe tbody tr th:only-of-type {\n",
       "        vertical-align: middle;\n",
       "    }\n",
       "\n",
       "    .dataframe tbody tr th {\n",
       "        vertical-align: top;\n",
       "    }\n",
       "\n",
       "    .dataframe thead th {\n",
       "        text-align: right;\n",
       "    }\n",
       "</style>\n",
       "<table border=\"1\" class=\"dataframe\">\n",
       "  <thead>\n",
       "    <tr style=\"text-align: right;\">\n",
       "      <th></th>\n",
       "      <th>Subjects</th>\n",
       "      <th>Min</th>\n",
       "      <th>Max</th>\n",
       "      <th>Range</th>\n",
       "      <th>IQR</th>\n",
       "      <th>Q1</th>\n",
       "      <th>Q3</th>\n",
       "      <th>u-fence</th>\n",
       "      <th>l-fence</th>\n",
       "      <th>outliers</th>\n",
       "    </tr>\n",
       "  </thead>\n",
       "  <tbody>\n",
       "    <tr>\n",
       "      <th>0</th>\n",
       "      <td>Statistics</td>\n",
       "      <td>50</td>\n",
       "      <td>74</td>\n",
       "      <td>24</td>\n",
       "      <td>13.00</td>\n",
       "      <td>54.0</td>\n",
       "      <td>67.00</td>\n",
       "      <td>86.500</td>\n",
       "      <td>34.500</td>\n",
       "      <td>[[], []]</td>\n",
       "    </tr>\n",
       "    <tr>\n",
       "      <th>1</th>\n",
       "      <td>Python</td>\n",
       "      <td>75</td>\n",
       "      <td>89</td>\n",
       "      <td>14</td>\n",
       "      <td>8.00</td>\n",
       "      <td>78.0</td>\n",
       "      <td>86.00</td>\n",
       "      <td>98.000</td>\n",
       "      <td>66.000</td>\n",
       "      <td>[[], []]</td>\n",
       "    </tr>\n",
       "    <tr>\n",
       "      <th>2</th>\n",
       "      <td>Tableau</td>\n",
       "      <td>45</td>\n",
       "      <td>79</td>\n",
       "      <td>34</td>\n",
       "      <td>9.25</td>\n",
       "      <td>64.0</td>\n",
       "      <td>73.25</td>\n",
       "      <td>87.125</td>\n",
       "      <td>50.125</td>\n",
       "      <td>[[], [45, 50, 50, 50, 46, 46]]</td>\n",
       "    </tr>\n",
       "  </tbody>\n",
       "</table>\n",
       "</div>"
      ],
      "text/plain": [
       "     Subjects  Min  Max  Range    IQR    Q1     Q3  u-fence  l-fence  \\\n",
       "0  Statistics   50   74     24  13.00  54.0  67.00   86.500   34.500   \n",
       "1      Python   75   89     14   8.00  78.0  86.00   98.000   66.000   \n",
       "2     Tableau   45   79     34   9.25  64.0  73.25   87.125   50.125   \n",
       "\n",
       "                         outliers  \n",
       "0                        [[], []]  \n",
       "1                        [[], []]  \n",
       "2  [[], [45, 50, 50, 50, 46, 46]]  "
      ]
     },
     "execution_count": 42,
     "metadata": {},
     "output_type": "execute_result"
    }
   ],
   "source": [
    "#task3: identify outliers\n",
    "for sub in mark_df:\n",
    "    UO=[]\n",
    "    LO=[]\n",
    "    col_series=pd.Series(mark_df[sub])\n",
    "    Min=min(col_series)\n",
    "    Max=max(col_series)\n",
    "    Range=Max-Min\n",
    "    Q3=col_series.quantile(0.75)\n",
    "    Q1=col_series.quantile(0.25)\n",
    "    IQR=Q3-Q1\n",
    "    UF=Q3+1.5*IQR\n",
    "    LF=Q1-1.5*IQR\n",
    "    for elt in mark_df[sub]:\n",
    "        if elt>UF:\n",
    "            UO.append(elt)\n",
    "        elif elt<LF:\n",
    "            LO.append(elt)\n",
    "\n",
    "    if(sub=='Statistics'):\n",
    "        stat=['Statistics',Min,Max,Range,IQR,Q1,Q3,UF,LF,[UO,LO]]\n",
    "    elif(sub=='Python'):\n",
    "        pyt=['Python',Min,Max,Range,IQR,Q1,Q3,UF,LF,[UO,LO]]\n",
    "    elif(sub=='Tableau'):\n",
    "        tabl=['Tableau',Min,Max,Range,IQR,Q1,Q3,UF,LF,[UO,LO]]\n",
    "    \n",
    "col_name=['Subjects','Min','Max','Range','IQR','Q1','Q3','u-fence','l-fence','outliers']\n",
    "row_head=['Statistics','Python','Tableau']\n",
    "data=pd.DataFrame([stat,pyt,tabl],columns=col_name)\n",
    "data"
   ]
  },
  {
   "cell_type": "raw",
   "id": "f50bdf3b-6f6b-4c9a-8669-4e625d090765",
   "metadata": {},
   "source": [
    "interpretation:\n",
    "There are no outliers for score in subjects statistics and python\n",
    "6 low outliers lie in the Tableau subject"
   ]
  },
  {
   "cell_type": "code",
   "execution_count": 13,
   "id": "d4b33508-dd20-469a-872f-a6205680d5ad",
   "metadata": {},
   "outputs": [],
   "source": [
    "stt=mark_df['Statistics'].tolist()\n",
    "py=mark_df['Python'].tolist()\n",
    "tb=mark_df['Tableau'].tolist()"
   ]
  },
  {
   "cell_type": "code",
   "execution_count": 15,
   "id": "a51f5edf-c90d-4d2e-983c-6321c850f2d0",
   "metadata": {},
   "outputs": [
    {
     "data": {
      "image/png": "[encoded data removed]",
      "text/plain": [
       "<Figure size 600x400 with 1 Axes>"
      ]
     },
     "metadata": {},
     "output_type": "display_data"
    }
   ],
   "source": [
    "#task4: visual representation for distribution of scores using box plot \n",
    "fig=plt.figure(figsize=(6,4))\n",
    "ax=fig.add_axes([0,0,1,1])\n",
    "plt.boxplot([stt,py,tb],vert=0)\n",
    "ax.set_yticklabels(['Statistics','Python','Tableau'])\n",
    "plt.show()"
   ]
  },
  {
   "cell_type": "raw",
   "id": "5008b645-17ae-44f7-9e9b-4b26a39e0059",
   "metadata": {},
   "source": [
    "interpretation:\n",
    "Statistics have wide range of scores compared to python & tableau\n",
    "statistics &python are slightly left skewed while tableau is slightly right skewed"
   ]
  },
  {
   "cell_type": "code",
   "execution_count": null,
   "id": "4517d9d2-b6ee-4948-a612-816c5607af4f",
   "metadata": {},
   "outputs": [],
   "source": [
    "#task 5: kurtosis analysis for each subject"
   ]
  },
  {
   "cell_type": "code",
   "execution_count": 17,
   "id": "8fb2ec5d-a038-4560-bdf1-b6f90a2db093",
   "metadata": {},
   "outputs": [],
   "source": [
    "from scipy.stats import norm\n",
    "from scipy.stats import kurtosis"
   ]
  },
  {
   "cell_type": "code",
   "execution_count": 21,
   "id": "ed548d71-014f-45aa-9c57-c812d1a0814f",
   "metadata": {},
   "outputs": [
    {
     "data": {
      "text/plain": [
       "Text(0.5, 1.0, 'Distribution of scores')"
      ]
     },
     "execution_count": 21,
     "metadata": {},
     "output_type": "execute_result"
    },
    {
     "data": {
      "image/png": "[encoded data removed]",
      "text/plain": [
       "<Figure size 640x480 with 1 Axes>"
      ]
     },
     "metadata": {},
     "output_type": "display_data"
    }
   ],
   "source": [
    "stt=sorted(stt)\n",
    "py=sorted(py)\n",
    "tb=sorted(tb)\n",
    "s_mean=st.mean(stt)\n",
    "s_sd=st.stdev(stt)\n",
    "p_mean=st.mean(py)\n",
    "p_sd=st.stdev(py)\n",
    "t_mean=st.mean(tb)\n",
    "t_sd=st.stdev(tb)\n",
    "plt.plot(stt,norm.pdf(stt,s_mean,s_sd),color='red',label='Statistics')\n",
    "plt.plot(py,norm.pdf(py,p_mean,p_sd),color='green',label='Python')\n",
    "plt.plot(tb,norm.pdf(tb,t_mean,t_sd),color='orange',label='Tableau')\n",
    "plt.legend()\n",
    "plt.title('Distribution of scores')"
   ]
  },
  {
   "cell_type": "code",
   "execution_count": 27,
   "id": "94d3bd8c-e7a9-46e1-9e63-32f9dc338516",
   "metadata": {},
   "outputs": [
    {
     "name": "stdout",
     "output_type": "stream",
     "text": [
      "The kurtosis for scores in Statistics is -1.2890343729055107\n",
      "The kurtosis for scores in Python is -1.2748529079288784\n",
      "The kurtosis for scores in Tableau is 1.442459054422362\n"
     ]
    }
   ],
   "source": [
    "print('The kurtosis for scores in Statistics is',kurtosis(stt))\n",
    "print('The kurtosis for scores in Python is',kurtosis(py))\n",
    "print('The kurtosis for scores in Tableau is',kurtosis(tb))"
   ]
  },
  {
   "cell_type": "raw",
   "id": "35e28d7b-69c2-4ad7-8d73-4e2b4112ce58",
   "metadata": {},
   "source": [
    "interpretation:\n",
    "The kurtosis of scores in statistics & python are platykurtic but negative\n",
    "while kurtosis of tableau is platykurtic & positive"
   ]
  }
 ],
 "metadata": {
  "kernelspec": {
   "display_name": "Python 3 (ipykernel)",
   "language": "python",
   "name": "python3"
  },
  "language_info": {
   "codemirror_mode": {
    "name": "ipython",
    "version": 3
   },
   "file_extension": ".py",
   "mimetype": "text/x-python",
   "name": "python",
   "nbconvert_exporter": "python",
   "pygments_lexer": "ipython3",
   "version": "3.12.4"
  }
 },
 "nbformat": 4,
 "nbformat_minor": 5
}
