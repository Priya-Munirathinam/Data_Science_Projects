{
 "cells": [
  {
   "cell_type": "markdown",
   "id": "c6db154a-44cb-4834-b492-bc31072109c1",
   "metadata": {},
   "source": [
    "Sprint 9\n",
    "Employee Engagement Project - part 1"
   ]
  },
  {
   "cell_type": "code",
   "execution_count": 1,
   "id": "89a593f8-bd7d-436f-864a-e78c9a679735",
   "metadata": {},
   "outputs": [],
   "source": [
    "from abc import ABC , abstractmethod\n",
    "class PlayGames(ABC):\n",
    "    @abstractmethod\n",
    "    def play_game(self):\n",
    "        pass"
   ]
  },
  {
   "cell_type": "code",
   "execution_count": 49,
   "id": "6e85bf74-14fa-459e-8d94-3ce2bc6bc636",
   "metadata": {},
   "outputs": [
    {
     "name": "stdout",
     "output_type": "stream",
     "text": [
      "Lets solve some fun quiz!!!\n",
      "*You can try 2 times to answer the quiz\n"
     ]
    },
    {
     "name": "stdin",
     "output_type": "stream",
     "text": [
      "Wanna play? Enter \"end\" to stop game or any word to continue: yas\n"
     ]
    },
    {
     "name": "stdout",
     "output_type": "stream",
     "text": [
      "I am a color but you can eat me\n"
     ]
    },
    {
     "name": "stdin",
     "output_type": "stream",
     "text": [
      "enter your guess: of\n"
     ]
    },
    {
     "name": "stdout",
     "output_type": "stream",
     "text": [
      "Oops! wrong answer.\n"
     ]
    },
    {
     "name": "stdin",
     "output_type": "stream",
     "text": [
      "To try again enter \"yes\" // \"no\" = to see the answer enter: has\n"
     ]
    },
    {
     "name": "stdout",
     "output_type": "stream",
     "text": [
      "Inavalid input\n"
     ]
    },
    {
     "name": "stdin",
     "output_type": "stream",
     "text": [
      "Wanna play? Enter \"end\" to stop game or any word to continue: end\n"
     ]
    },
    {
     "name": "stdout",
     "output_type": "stream",
     "text": [
      "score: 0.0% with 0 out of 1 correct answer(s)\n"
     ]
    }
   ],
   "source": [
    "#1 Brain teaser puzzle\n",
    "import random\n",
    "class Riddle_game(PlayGames):\n",
    "    print('Lets solve some fun quiz!!!')\n",
    "    print('*You can try 2 times to answer the quiz')\n",
    "    def __init__(self):\n",
    "        self.riddles= 'none'\n",
    "        self.correct=0\n",
    "        self.question=dict()\n",
    "        self.attempt=0\n",
    "        self.answer='none'\n",
    "        \n",
    "    def play_game(self):\n",
    "        while True:\n",
    "            self.repeat=input('Wanna play? Enter \"end\" to stop game or any word to continue:')\n",
    "            if self.repeat.lower()=='end': break\n",
    "            self.riddles=[{'I am a color but you can eat me':'Orange'}, {'I am a vegetable who wears cap': 'Capsicum'}, {'What kind of table you can eat':'vegetable'},\n",
    "                      {'I am a continent, I have currency in my name':'Europe'},{'Santa s favourite animal':'Reindeer'}]\n",
    "            self.question=random.choice(self.riddles)\n",
    "            for i in self.question:\n",
    "                print(i)\n",
    "                self.answer=input('enter your guess:')\n",
    "                if self.answer.lower() == self.question[i].lower():\n",
    "                    print('correct answer')\n",
    "                    self.correct+=1\n",
    "                else:\n",
    "                    print('Oops! wrong answer.')\n",
    "                    self.resp=input('To try again enter \"yes\" // \"no\" = to see the answer enter:')\n",
    "                    \n",
    "                    if self.resp.lower()=='yes':\n",
    "                        self.answer=input('2nd chance:')\n",
    "                        if self.answer.lower() == self.question[i].lower():\n",
    "                            print('correct answer')\n",
    "                            self.correct+=1\n",
    "                        else:\n",
    "                            print('Guessed wrong again😞')\n",
    "                            print('Correct answer is',self.question[i])\n",
    "                    elif self.resp.lower()=='no':\n",
    "                        print('Correct answer is',self.question[i])\n",
    "                    else:\n",
    "                        print('Inavalid input')\n",
    "                self.attempt+=1\n",
    "        try:\n",
    "            print(f'score: {round(100*self.correct/self.attempt,2)}% with {self.correct} out of {self.attempt} correct answer(s)')\n",
    "        except ZeroDivisionError:\n",
    "            print('0 attempt made')\n",
    "riddles = Riddle_game()\n",
    "riddles.play_game()"
   ]
  },
  {
   "cell_type": "code",
   "execution_count": 61,
   "id": "31f6b83a-e14e-44eb-9d7f-a990dbdbe465",
   "metadata": {},
   "outputs": [
    {
     "name": "stdout",
     "output_type": "stream",
     "text": [
      "Welcome to Arithmetic puzzle:\n",
      "\n",
      "Rules: calculate the given mathematical expression\n",
      "*If invalid answer is given the game ends so, enter valid answers\n",
      "*In case of decimal answers, answer with 1 decimal point as round of\n",
      "\n",
      "do you want to play the game? \n",
      "enter only \"yes\" to continue or \"no\" to end\n"
     ]
    },
    {
     "name": "stdin",
     "output_type": "stream",
     "text": [
      "None yes\n"
     ]
    },
    {
     "name": "stdout",
     "output_type": "stream",
     "text": [
      "Expression: 7 / 1\n",
      "enter \"000\" to quit\n"
     ]
    },
    {
     "name": "stdin",
     "output_type": "stream",
     "text": [
      "Your answer: 7\n"
     ]
    },
    {
     "name": "stdout",
     "output_type": "stream",
     "text": [
      "Correct answer!\n",
      "Expression: 10 * 9\n",
      "enter \"000\" to quit\n"
     ]
    },
    {
     "name": "stdin",
     "output_type": "stream",
     "text": [
      "Your answer: 000\n"
     ]
    },
    {
     "name": "stdout",
     "output_type": "stream",
     "text": [
      "Your score is 100.0% with 1 out of 1 correct answers\n",
      "Thanks for playing!!!\n"
     ]
    }
   ],
   "source": [
    "# 2 Arithmetic puzzle\n",
    "import random\n",
    "import operator\n",
    "class arith_puzzle(PlayGames):\n",
    "    print('Welcome to Arithmetic puzzle:')\n",
    "    print('\\nRules: calculate the given mathematical expression\\n*If invalid answer is given the game ends so, enter valid answers\\n*In case of decimal answers, answer with 1 decimal point as round of')\n",
    "    \n",
    "    def play_game(self):\n",
    "        try:\n",
    "            self.correct=0\n",
    "            self.attempt=0\n",
    "            self.score=0\n",
    "            self.rep=input(print('\\ndo you want to play the game? \\nenter only \"yes\" to continue or \"no\" to end' ))\n",
    "            while self.rep.lower()=='yes':\n",
    "                self.ops=['+','-','*','/']\n",
    "                self.num1=random.randint(1,20)\n",
    "                self.num2=random.randint(1,20)\n",
    "                self.oper=random.choice(self.ops)\n",
    "                print('Expression:',self.num1,self.oper,self.num2)\n",
    "                self.an=round(eval(f'{int(self.num1)}{self.oper}{int(self.num2)}'),1)\n",
    "                print('enter \"000\" to quit')\n",
    "                self.guess=float(input('Your answer:'))\n",
    "                if self.guess==000 : break\n",
    "                if self.guess == self.an:\n",
    "                    print('Correct answer!')\n",
    "                    self.correct+=1\n",
    "                else:\n",
    "                    print('Wrong answer, right answer is,',self.an)\n",
    "                \n",
    "                self.attempt+=1\n",
    "                self.score=100*self.correct/self.attempt\n",
    "        except ValueError:\n",
    "            print('Invalid answer entered')\n",
    "        except TypeError:\n",
    "            print('Enter the right type of input')\n",
    "        print(f'Your score is {round(self.score,2)}% with {self.correct} out of {self.attempt} correct answers\\nThanks for playing!!!')\n",
    "\n",
    "calculate = arith_puzzle()\n",
    "calculate.play_game()\n"
   ]
  },
  {
   "cell_type": "code",
   "execution_count": 63,
   "id": "2afa96e1-10cd-4864-ab76-0d13cfd01560",
   "metadata": {},
   "outputs": [],
   "source": [
    "#3 General knowledge quiz\n",
    "class Gk_quiz(PlayGames):  \n",
    "        \n",
    "    def ask_category(self):\n",
    "        print('Choose your category from the following list:')\n",
    "        print('1: Science based')\n",
    "        print('2: Mathematics based')\n",
    "        print('3: Geography based')\n",
    "        print('4: Others')\n",
    "    def choice(self):\n",
    "        try:\n",
    "            self.option=int(input('Enter the options (1 or 2 or 3 or 4):'))\n",
    "            self.science=[{'Which gas do plants absorb during photosynthesis?':'Carbon Dioxide'},{'What is the full name of the WWW?':'World Wide Web'},{'How many bones are there in the adult body?':'206'}]\n",
    "            self.math=[{'What is the only even prime number?':'2'},{'What is the sum of first 5 natural numbers':'15'},{'What is the name of the mathematical symbol π': 'Pi'}]\n",
    "            self.geo=[{'Which is the tallest mountain on Earth?':'Mount Everest'},{'What is the capital of France?':'Paris'},{'Which planet is known as Red Planet?':'Mars'}]\n",
    "            self.others=[{'Which country won the most recent FIFA world cup(as of 2022)':'Argentina'},{'Who invented the light bulb?':'Thomas Edison'},{'In which year did India declare itself a Democratic and Republic state with the adoption of the constitution?':'1950'}]\n",
    "            self.category = []\n",
    "            if self.option == 1:\n",
    "                self.category = self.science\n",
    "            elif self.option==2:\n",
    "                self.category = self.math\n",
    "            elif self.option==3:\n",
    "                self.category = self.geo\n",
    "            elif self.option==4:\n",
    "                self.category = self.others\n",
    "            return self.category\n",
    "        except TypeError:\n",
    "            print('Enter only numbers')\n",
    "            \n",
    "    def play_game(self):\n",
    "        try:\n",
    "            self.correct=0\n",
    "            for dict in self.category:\n",
    "                for i in dict:\n",
    "                    print(i)\n",
    "                    self.ans=input('Your answer?')\n",
    "                    if self.ans.lower() == dict[i].lower():\n",
    "                        print('Correct answer!!')\n",
    "                        self.correct+=1\n",
    "                    else:\n",
    "                        print('Wrong answer! Right answer is',dict[i])\n",
    "        except ValueError:\n",
    "            print('Invalid answer entered')\n",
    "        except TypeError:\n",
    "            print('Enter the right type of input')\n",
    "        print('Your have answered',self.correct,'out of 3 question(s) correctly')\n",
    "        \n",
    "def main():\n",
    "    print('Welcome')\n",
    "    print('Lets test you knowledge!!')\n",
    "    quiz = Gk_quiz()\n",
    "    while True:\n",
    "        reply = input('Do you want to play? enter \"no\" to quit or enter any word to continue')\n",
    "        if reply=='no': break\n",
    "        quiz.ask_category()\n",
    "        quiz.choice()\n",
    "        quiz.play_game()\n",
    "    print('Thank you')\n",
    "\n",
    "\n",
    "  "
   ]
  },
  {
   "cell_type": "code",
   "execution_count": 65,
   "id": "c54a0ce3-db51-450a-94a1-851bfa3cd631",
   "metadata": {},
   "outputs": [
    {
     "name": "stdout",
     "output_type": "stream",
     "text": [
      "Welcome\n",
      "Lets test you knowledge!!\n"
     ]
    },
    {
     "name": "stdin",
     "output_type": "stream",
     "text": [
      "Do you want to play? enter \"no\" to quit or enter any word to continue h\n"
     ]
    },
    {
     "name": "stdout",
     "output_type": "stream",
     "text": [
      "Choose your category from the following list:\n",
      "1: Science based\n",
      "2: Mathematics based\n",
      "3: Geography based\n",
      "4: Others\n"
     ]
    },
    {
     "name": "stdin",
     "output_type": "stream",
     "text": [
      "Enter the options (1 or 2 or 3 or 4): 1\n"
     ]
    },
    {
     "name": "stdout",
     "output_type": "stream",
     "text": [
      "Which gas do plants absorb during photosynthesis?\n"
     ]
    },
    {
     "name": "stdin",
     "output_type": "stream",
     "text": [
      "Your answer? carbon\n"
     ]
    },
    {
     "name": "stdout",
     "output_type": "stream",
     "text": [
      "Wrong answer! Right answer is Carbon Dioxide\n",
      "What is the full name of the WWW?\n"
     ]
    },
    {
     "name": "stdin",
     "output_type": "stream",
     "text": [
      "Your answer? world\n"
     ]
    },
    {
     "name": "stdout",
     "output_type": "stream",
     "text": [
      "Wrong answer! Right answer is World Wide Web\n",
      "How many bones are there in the adult body?\n"
     ]
    },
    {
     "name": "stdin",
     "output_type": "stream",
     "text": [
      "Your answer? 20\n"
     ]
    },
    {
     "name": "stdout",
     "output_type": "stream",
     "text": [
      "Wrong answer! Right answer is 206\n",
      "Your have answered 0 out of 3 question(s) correctly\n"
     ]
    },
    {
     "name": "stdin",
     "output_type": "stream",
     "text": [
      "Do you want to play? enter \"no\" to quit or enter any word to continue has\n"
     ]
    },
    {
     "name": "stdout",
     "output_type": "stream",
     "text": [
      "Choose your category from the following list:\n",
      "1: Science based\n",
      "2: Mathematics based\n",
      "3: Geography based\n",
      "4: Others\n"
     ]
    },
    {
     "name": "stdin",
     "output_type": "stream",
     "text": [
      "Enter the options (1 or 2 or 3 or 4): 2\n"
     ]
    },
    {
     "name": "stdout",
     "output_type": "stream",
     "text": [
      "What is the only even prime number?\n"
     ]
    },
    {
     "name": "stdin",
     "output_type": "stream",
     "text": [
      "Your answer? 2\n"
     ]
    },
    {
     "name": "stdout",
     "output_type": "stream",
     "text": [
      "Correct answer!!\n",
      "What is the sum of first 5 natural numbers\n"
     ]
    },
    {
     "name": "stdin",
     "output_type": "stream",
     "text": [
      "Your answer? 15\n"
     ]
    },
    {
     "name": "stdout",
     "output_type": "stream",
     "text": [
      "Correct answer!!\n",
      "What is the name of the mathematical symbol π\n"
     ]
    },
    {
     "name": "stdin",
     "output_type": "stream",
     "text": [
      "Your answer? pi\n"
     ]
    },
    {
     "name": "stdout",
     "output_type": "stream",
     "text": [
      "Correct answer!!\n",
      "Your have answered 3 out of 3 question(s) correctly\n"
     ]
    },
    {
     "name": "stdin",
     "output_type": "stream",
     "text": [
      "Do you want to play? enter \"no\" to quit or enter any word to continue no\n"
     ]
    },
    {
     "name": "stdout",
     "output_type": "stream",
     "text": [
      "Thank you\n"
     ]
    }
   ],
   "source": [
    "if __name__=='__main__':\n",
    "    main()"
   ]
  },
  {
   "cell_type": "code",
   "execution_count": 43,
   "id": "b57cbabc-60be-4257-bf8e-ca219234693e",
   "metadata": {},
   "outputs": [
    {
     "name": "stdout",
     "output_type": "stream",
     "text": [
      "Wanna play rock-paper-scissors with me!\n"
     ]
    },
    {
     "name": "stdin",
     "output_type": "stream",
     "text": [
      "Hello player! Enter your name: priya\n",
      "Hello! enter \"no\" to quit or enter any word to continue no\n"
     ]
    },
    {
     "name": "stdout",
     "output_type": "stream",
     "text": [
      "Thank you... It was fun playing with you!\n"
     ]
    }
   ],
   "source": [
    "#4 rock paper scissors by 1 user\n",
    "import random\n",
    "class RPS_one_user(PlayGames):\n",
    "    print('Wanna play rock-paper-scissors with me!')\n",
    "    def play_game(self):\n",
    "        self.name1=input('Hello player! Enter your name:')\n",
    "        self.name2='Computer'\n",
    "        while True:\n",
    "            self.list=['rock','paper','scissors']\n",
    "            self.resp=input('Hello! enter \"no\" to quit or enter any word to continue')\n",
    "            if self.resp=='no':break\n",
    "            self.option1=input(f'Hello {self.name1}! Enter your choice (rock,paper,scissors):')\n",
    "            self.option2=random.choice(self.list)\n",
    "            print(f\"Computer's choice is {self.option2}\")\n",
    "            if self.option1==self.option2:\n",
    "                print('Tie!! play again')\n",
    "            elif self.option1=='rock' and self.option2=='paper':\n",
    "                print('Paper covers rock...',self.name2,'wins\\n-------')\n",
    "            elif self.option1=='rock' and self.option2=='scissors':\n",
    "                print('rock breaks scissors...',self.name1,'wins\\n-------')\n",
    "            elif self.option1=='paper' and self.option2=='rock':\n",
    "                print('Paper covers rock...',self.name1,'wins\\n-------')\n",
    "            elif self.option1=='paper' and self.option2=='scissors':\n",
    "                print('Scissors cuts paper...',self.name2,'wins\\n-------')\n",
    "            elif self.option1=='scissors' and self.option2=='paper':\n",
    "                print('Scissors cuts paper...',self.name1,'wins\\n-------')\n",
    "            elif self.option1=='scissors' and self.option2=='rock':\n",
    "                print('rock breaks scissors...',self.name2,'wins\\n-------')\n",
    "        print('Thank you... It was fun playing with you!')\n",
    "\n",
    "user_comp = RPS_one_user()\n",
    "user_comp.play_game()"
   ]
  },
  {
   "cell_type": "code",
   "execution_count": 33,
   "id": "93f4a06f-582b-4a5c-b818-f44d43e470aa",
   "metadata": {},
   "outputs": [
    {
     "name": "stdout",
     "output_type": "stream",
     "text": [
      "Lets play rock-paper-scissors!\n"
     ]
    },
    {
     "name": "stdin",
     "output_type": "stream",
     "text": [
      "Hello user1! Enter your name: priya\n",
      "Hello user2! Enter your name: sonia\n",
      "Hello! enter \"yes\" to continue or \"no\" to end game yes\n",
      "Hello priya! Enter your choice (rock,paper,scissors): paper\n",
      "Hello sonia Enter your choice (rock,paper,scissors): rock\n"
     ]
    },
    {
     "name": "stdout",
     "output_type": "stream",
     "text": [
      "Paper covers rock... priya wins\n",
      "-------\n"
     ]
    },
    {
     "name": "stdin",
     "output_type": "stream",
     "text": [
      "Hello! enter \"yes\" to continue or \"no\" to end game no\n"
     ]
    },
    {
     "name": "stdout",
     "output_type": "stream",
     "text": [
      "Thank you for playing\n"
     ]
    }
   ],
   "source": [
    "#5 rock paper scissors by 2 users\n",
    "class rockpaperscissors(PlayGames):\n",
    "    print('Lets play rock-paper-scissors!')\n",
    "    def play_game(self):\n",
    "        self.name1=input('Hello user1! Enter your name:')\n",
    "        self.name2=input('Hello user2! Enter your name:')\n",
    "        while True:\n",
    "            self.resp=input('Hello! enter \"yes\" to continue or \"no\" to end game')\n",
    "            if self.resp=='no':break\n",
    "            self.option1=input(f'Hello {self.name1}! Enter your choice (rock,paper,scissors):')\n",
    "            self.option2=input(f'Hello {self.name2} Enter your choice (rock,paper,scissors):')\n",
    "            if self.option1==self.option2:\n",
    "                print('Tie!! play again')\n",
    "            elif self.option1=='rock' and self.option2=='paper':\n",
    "                print('Paper covers rock...',self.name2,'wins\\n-------')\n",
    "            elif self.option1=='rock' and self.option2=='scissors':\n",
    "                print('rock breaks scissors...',self.name1,'wins\\n-------')\n",
    "            elif self.option1=='paper' and self.option2=='rock':\n",
    "                print('Paper covers rock...',self.name1,'wins\\n-------')\n",
    "            elif self.option1=='paper' and self.option2=='scissors':\n",
    "                print('Scissors cuts paper...',self.name2,'wins\\n-------')\n",
    "            elif self.option1=='scissors' and self.option2=='paper':\n",
    "                print('Scissors cuts paper...',self.name1,'wins\\n-------')\n",
    "            elif self.option1=='scissors' and self.option2=='rock':\n",
    "                print('rock breaks scissors...',self.name2,'wins\\n-------')\n",
    "        print('Thank you for playing')\n",
    "\n",
    "RSP = rockpaperscissors()\n",
    "RSP.play_game()"
   ]
  }
 ],
 "metadata": {
  "kernelspec": {
   "display_name": "Python 3 (ipykernel)",
   "language": "python",
   "name": "python3"
  },
  "language_info": {
   "codemirror_mode": {
    "name": "ipython",
    "version": 3
   },
   "file_extension": ".py",
   "mimetype": "text/x-python",
   "name": "python",
   "nbconvert_exporter": "python",
   "pygments_lexer": "ipython3",
   "version": "3.12.4"
  }
 },
 "nbformat": 4,
 "nbformat_minor": 5
}
