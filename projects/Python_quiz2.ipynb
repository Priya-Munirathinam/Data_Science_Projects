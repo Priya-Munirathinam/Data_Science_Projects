{
 "cells": [
  {
   "cell_type": "markdown",
   "id": "fb9cb70b-ffc3-4d8c-ab15-438d4c797efe",
   "metadata": {},
   "source": [
    "Sprint 10: Employee Engagement Project part - 2"
   ]
  },
  {
   "cell_type": "code",
   "execution_count": 1,
   "id": "444954bd-7e29-4a21-a88f-04598a5cdb25",
   "metadata": {},
   "outputs": [],
   "source": [
    "from abc import ABC , abstractmethod\n",
    "class PlayGames(ABC):\n",
    "    @abstractmethod\n",
    "    def play_game(self):\n",
    "        pass"
   ]
  },
  {
   "cell_type": "code",
   "execution_count": 3,
   "id": "1f063651-8e10-4016-b65f-6e7310e03456",
   "metadata": {},
   "outputs": [],
   "source": [
    "#1 Brain teaser puzzle\n",
    "import random\n",
    "class Riddle_game(PlayGames):\n",
    "    \n",
    "    def __init__(self):\n",
    "        print('Lets solve some fun quiz!!!')\n",
    "        print('*You can try 2 times to answer the quiz')\n",
    "        self.riddles= 'none'\n",
    "        self.correct=0\n",
    "        self.question=dict()\n",
    "        self.attempt=0\n",
    "        self.answer='none'\n",
    "        \n",
    "    def play_game(self):\n",
    "        while True:\n",
    "            self.repeat=input('Wanna play? Enter \"end\" to stop game or any word to continue')\n",
    "            if self.repeat.lower()=='end': break\n",
    "            self.riddles=[{'I am a color but you can eat me':'Orange'}, {'I am a vegetable who wears cap': 'Capsicum'}, {'What kind of table you can eat':'vegetable'},\n",
    "                      {'I am a continent, I have currency in my name':'Europe'},{'Santa s favourite animal':'Reindeer'}]\n",
    "            self.question=random.choice(self.riddles)\n",
    "            for i in self.question:\n",
    "                print(i)\n",
    "                self.answer=input('enter your guess:')\n",
    "                if self.answer.lower() == self.question[i].lower():\n",
    "                    print('correct answer')\n",
    "                    self.correct+=1\n",
    "                else:\n",
    "                    print('Oops! wrong answer.')\n",
    "                    self.resp=input('To try again enter \"yes\" // \"no\" = to see the answer enter')\n",
    "                    \n",
    "                    if self.resp.lower()=='yes':\n",
    "                        self.answer=input('2nd chance:')\n",
    "                        if self.answer.lower() == self.question[i].lower():\n",
    "                            print('correct answer')\n",
    "                            self.correct+=1\n",
    "                        else:\n",
    "                            print('Guessed wrong again😞')\n",
    "                            print('Correct answer is',self.question[i])\n",
    "                    elif self.resp.lower()=='no':\n",
    "                        print('Correct answer is',self.question[i])\n",
    "                    else:\n",
    "                        print('Inavalid input')\n",
    "                self.attempt+=1\n",
    "        try:\n",
    "            print(f'\\nscore: {round(100*self.correct/self.attempt,2)}% with {self.correct} out of {self.attempt} correct answer(s)\\n')\n",
    "        except ZeroDivisionError:\n",
    "            print('0 attempts made')"
   ]
  },
  {
   "cell_type": "code",
   "execution_count": 5,
   "id": "7335b345-dbdf-4b09-8701-1efe65695fdd",
   "metadata": {},
   "outputs": [],
   "source": [
    "# 2 Arithmetic puzzle\n",
    "import random\n",
    "import operator\n",
    "class arith_puzzle(PlayGames):\n",
    "   \n",
    "    def play_game(self):\n",
    "        print('Welcome to Arithmetic puzzle:')\n",
    "        print('\\nRules: calculate the given mathematical expression\\n*If invalid answer is given the game ends so, enter valid answers\\n*In case of decimal answers, answer with 1 decimal point as round of')\n",
    "        try:\n",
    "            self.correct=0\n",
    "            self.attempt=0\n",
    "            self.score=0\n",
    "            self.rep=input(print('\\ndo you want to play the game? \\nenter \"yes\" to continue or enter \"no\" to end' ))\n",
    "            while self.rep.lower()=='yes':\n",
    "                self.ops=['+','-','*','/']\n",
    "                self.num1=random.randint(1,20)\n",
    "                self.num2=random.randint(1,20)\n",
    "                self.oper=random.choice(self.ops)\n",
    "                print('Expression:',self.num1,self.oper,self.num2)\n",
    "                self.an=round(eval(f'{int(self.num1)}{self.oper}{int(self.num2)}'),1)\n",
    "                print('enter \"000\" to quit')\n",
    "                self.guess=float(input('Your answer:'))\n",
    "                if self.guess==000 : break\n",
    "                if self.guess == self.an:\n",
    "                    print('Correct answer!')\n",
    "                    self.correct+=1\n",
    "                else:\n",
    "                    print('Wrong answer, right answer is,',self.an)\n",
    "                    \n",
    "                self.attempt+=1\n",
    "                self.score=100*self.correct/self.attempt\n",
    "        except ValueError:\n",
    "            print('Invalid answer entered')\n",
    "        except TypeError:\n",
    "            print('Enter the right type of input')\n",
    "        except ZeroDivisionError:\n",
    "            print('0 attempt made')\n",
    "        print(f'\\nYour score is {round(self.score,2)}% with {self.correct} out of {self.attempt} correct answers\\nThanks for playing!!!\\n')\n"
   ]
  },
  {
   "cell_type": "code",
   "execution_count": 7,
   "id": "e737138f-872a-4550-afe0-3d54bf1fc142",
   "metadata": {},
   "outputs": [],
   "source": [
    "#3 General knowledge quiz\n",
    "class Gk_quiz(PlayGames):  \n",
    "        \n",
    "    def ask_category(self):\n",
    "        print('Choose your category from the following list:')\n",
    "        print('1: Science based')\n",
    "        print('2: Mathematics based')\n",
    "        print('3: Geography based')\n",
    "        print('4: Others')\n",
    "        \n",
    "    def choice(self):\n",
    "        try:\n",
    "            self.option=int(input('Enter the options (1 or 2 or 3 or 4):'))\n",
    "            self.science=[{'Which gas do plants absorb during photosynthesis?':'Carbon Dioxide'},{'What is the full name of the WWW?':'World Wide Web'},{'How many bones are there in the adult body?':'206'}]\n",
    "            self.math=[{'What is the only even prime number?':'2'},{'What is the sum of first 5 natural numbers':'15'},{'What is the name of the mathematical symbol π': 'Pi'}]\n",
    "            self.geo=[{'Which is the tallest mountain on Earth?':'Mount Everest'},{'What is the capital of France?':'Paris'},{'Which planet is known as Red Planet?':'Mars'}]\n",
    "            self.others=[{'Which country won the most recent FIFA world cup(as of 2022)':'Argentina'},{'Who invented the light bulb?':'Thomas Edison'},{'In which year did India declare itself a Democratic and Republic state with the adoption of the constitution?':'1950'}]\n",
    "            self.category = []\n",
    "            if self.option == 1:\n",
    "                self.category = self.science\n",
    "            elif self.option==2:\n",
    "                self.category = self.math\n",
    "            elif self.option==3:\n",
    "                self.category = self.geo\n",
    "            elif self.option==4:\n",
    "                self.category = self.others\n",
    "            return self.category\n",
    "        except TypeError:\n",
    "            print('Enter only numbers')\n",
    "            \n",
    "    def pre_req(self):\n",
    "        try:\n",
    "            self.correct=0\n",
    "            for dict in self.category:\n",
    "                for i in dict:\n",
    "                    print(i)\n",
    "                    self.ans=input('Your answer?')\n",
    "                    if self.ans.lower() == dict[i].lower():\n",
    "                        print('Correct answer!!')\n",
    "                        self.correct+=1\n",
    "                    else:\n",
    "                        print('Wrong answer! Right answer is',dict[i])\n",
    "        except ValueError:\n",
    "            print('Invalid answer entered')\n",
    "        except TypeError:\n",
    "            print('Enter the right type of input')\n",
    "        print('\\nYour have answered',self.correct,'out of 3 question(s) correctly\\n')\n",
    "        \n",
    "    def play_game(self):\n",
    "        print('Welcome')\n",
    "        print('Lets test you knowledge!!')\n",
    "        quiz = Gk_quiz()\n",
    "        while True:\n",
    "            reply = input('Do you want to play? Enter \"end\" to stop game or any word to continue')\n",
    "            if reply=='no': break\n",
    "            self.ask_category()\n",
    "            self.choice()\n",
    "            self.pre_req()\n"
   ]
  },
  {
   "cell_type": "code",
   "execution_count": 9,
   "id": "c7321c91-73bd-45fd-872c-542b482d1c03",
   "metadata": {},
   "outputs": [],
   "source": [
    "#4 rock paper scissors by 1 user\n",
    "import random\n",
    "class RPS_one_user(PlayGames):\n",
    "    \n",
    "    def play_game(self):\n",
    "        print('Wanna play rock-paper-scissors with me!')\n",
    "        self.name1=input('Hello player! Enter your name:')\n",
    "        self.name2='Computer'\n",
    "        while True:\n",
    "            self.list=['rock','paper','scissors']\n",
    "            self.resp=input('Hello! Enter \"no\" to stop game or any word to continue')\n",
    "            if self.resp=='no':break\n",
    "            self.option1=input(f'Hello {self.name1}! Enter your choice (rock,paper,scissors):')\n",
    "            self.option2=random.choice(self.list)\n",
    "            print(f\"Computer's choice is {self.option2}\")\n",
    "            if self.option1==self.option2:\n",
    "                print('Tie!! play again')\n",
    "            elif self.option1=='rock' and self.option2=='paper':\n",
    "                print('Paper covers rock...',self.name2,'wins\\n-------')\n",
    "            elif self.option1=='rock' and self.option2=='scissors':\n",
    "                print('rock breaks scissors...',self.name1,'wins\\n-------')\n",
    "            elif self.option1=='paper' and self.option2=='rock':\n",
    "                print('Paper covers rock...',self.name1,'wins\\n-------')\n",
    "            elif self.option1=='paper' and self.option2=='scissors':\n",
    "                print('Scissors cuts paper...',self.name2,'wins\\n-------')\n",
    "            elif self.option1=='scissors' and self.option2=='paper':\n",
    "                print('Scissors cuts paper...',self.name1,'wins\\n-------')\n",
    "            elif self.option1=='scissors' and self.option2=='rock':\n",
    "                print('rock breaks scissors...',self.name2,'wins\\n-------')\n",
    "        print('It was fun playing with you!\\n')\n"
   ]
  },
  {
   "cell_type": "code",
   "execution_count": 11,
   "id": "3e6f64e7-0b7a-4a24-8901-8d8c0c8332f4",
   "metadata": {},
   "outputs": [],
   "source": [
    "#5 rock paper scissors by 2 users\n",
    "class RockPaperScissors(PlayGames):\n",
    "    \n",
    "    def play_game(self):\n",
    "        print('Lets play rock-paper-scissors!')\n",
    "        self.name1=input('Hello user1! Enter your name:')\n",
    "        self.name2=input('Hello user2! Enter your name:')\n",
    "        while True:\n",
    "            self.resp=input('Hello! Enter \"no\" to stop game or any word to continue')\n",
    "            if self.resp=='no':break\n",
    "            self.option1=input(f'Hello {self.name1}! Enter your choice (rock,paper,scissors):')\n",
    "            self.option2=input(f'Hello {self.name2} Enter your choice (rock,paper,scissors):')\n",
    "            if self.option1==self.option2:\n",
    "                print('Tie!! play again')\n",
    "            elif self.option1=='rock' and self.option2=='paper':\n",
    "                print('Paper covers rock...',self.name2,'wins\\n-------')\n",
    "            elif self.option1=='rock' and self.option2=='scissors':\n",
    "                print('rock breaks scissors...',self.name1,'wins\\n-------')\n",
    "            elif self.option1=='paper' and self.option2=='rock':\n",
    "                print('Paper covers rock...',self.name1,'wins\\n-------')\n",
    "            elif self.option1=='paper' and self.option2=='scissors':\n",
    "                print('Scissors cuts paper...',self.name2,'wins\\n-------')\n",
    "            elif self.option1=='scissors' and self.option2=='paper':\n",
    "                print('Scissors cuts paper...',self.name1,'wins\\n-------')\n",
    "            elif self.option1=='scissors' and self.option2=='rock':\n",
    "                print('rock breaks scissors...',self.name2,'wins\\n-------')\n"
   ]
  },
  {
   "cell_type": "code",
   "execution_count": 33,
   "id": "2a3e4ef7-f923-405e-8450-7905d9e04ef9",
   "metadata": {},
   "outputs": [],
   "source": [
    "#6 word guessing game\n",
    "import random\n",
    "class Word_guess(PlayGames):\n",
    "    \n",
    "    def __init__(self):\n",
    "        print(\"Welcome to word guessing game\\nToday's topic is 'Animals'\")\n",
    "        self.animals=['cat','dog','rabbit','horse','Zebra','Giraffe','panda','peacock','cheetah']\n",
    "        self.response='none'\n",
    "\n",
    "    def choice_hint(self):\n",
    "        if self.response.lower()=='cat':\n",
    "            self.hint1='I scratch people, when I am angry'\n",
    "            self.hint2='I say meow'\n",
    "        elif self.response.lower()=='dog':\n",
    "            self.hint1='I am friendly'\n",
    "            self.hint2='I am loyal to human'\n",
    "        elif self.response.lower()=='rabbit':\n",
    "            self.hint1='I hate race'\n",
    "            self.hint2='I love carrots'\n",
    "        elif self.response.lower()=='horse':\n",
    "            self.hint1='I am Knights companion'\n",
    "            self.hint2='I kneigh'\n",
    "        elif self.response.lower()=='zebra':\n",
    "            self.hint1='I love stripes'\n",
    "            self.hint2='Black and white is my favourite color'\n",
    "        elif self.response.lower()=='giraffe':\n",
    "            self.hint1='I am a vegetarian'\n",
    "            self.hint2='I have long neck'\n",
    "        elif self.response.lower()=='panda':\n",
    "            self.hint1='I am cute, black & white'\n",
    "            self.hint2='I love bamboo'\n",
    "        elif self.response.lower()=='peacock':\n",
    "            self.hint1='I am pretty'\n",
    "            self.hint2='But somehow people hate me singing'\n",
    "        elif self.response.lower()=='cheetah':\n",
    "            self.hint1='you can spot spots on me'\n",
    "            self.hint2='I am fast'\n",
    "        return self.hint1, self.hint2\n",
    "        \n",
    "    def play_game(self):\n",
    "        while True:\n",
    "            self.reply=input('Do you want to guess my animal? if yes enter any word to continue or enter \"no\":')\n",
    "            if self.reply=='no':break\n",
    "            self.response=random.choice(self.animals)\n",
    "            self.choice_hint()\n",
    "            self.guess=input('your guess animal:')\n",
    "            if self.response.lower()==self.guess.lower():\n",
    "                print('you have guessed right!')\n",
    "                print(f'My animal is {self.response.title()}\\n')\n",
    "            else:\n",
    "                print('you have used your 1st try. Here is a hint')\n",
    "                print('Hint1:',self.hint1)\n",
    "                self.guess=input('your guess animal:')\n",
    "                if self.response.lower()==self.guess.lower():\n",
    "                    print('your 2nd guess is right!')\n",
    "                    print(f'My animal is {self.response.title()}\\n')\n",
    "                else:\n",
    "                    print('you have used your 2nd try. Here is another hint')\n",
    "                    print('Hint2:',self.hint2)\n",
    "                    self.guess=input('your guess animal:')\n",
    "                    if self.response.lower()==self.guess.lower():\n",
    "                        print('your 3rd guess is right!')\n",
    "                        print(f'My animal is {self.response.title()}\\n')\n",
    "                    else:\n",
    "                        print('Oops! you have used all 3 chances')\n",
    "                        print(f'My animal is {self.response.title()}\\n')\n"
   ]
  },
  {
   "cell_type": "code",
   "execution_count": 15,
   "id": "4ea62420-6e47-4a35-a281-1cc6d2e23532",
   "metadata": {},
   "outputs": [],
   "source": [
    "class GameMenu():\n",
    "    @staticmethod\n",
    "    \n",
    "    def menu():\n",
    "        print('Games:')\n",
    "        print('1 - Play Riddle puzzle')\n",
    "        print('2 - Play Arithmetic puzzle')\n",
    "        print('3 - Play General Knowledge quiz')\n",
    "        print('4 - Play Rock-Paper-Scissors with computer')\n",
    "        print('5 - play Rock-Paper_scissors with user')\n",
    "        print('6 - Play Word puzzle game with the computer')\n",
    "        print('7 - enter 7 to go back')\n",
    "        \n",
    "    def main(self):\n",
    "        print('Lets have fun')\n",
    "        self.stay='none'\n",
    "        self.option=0\n",
    "        while True:\n",
    "            print('-----------')\n",
    "            self.stay=input(\"enter 'Y'/'y' to proceed or 'N'/'n' to quit\")\n",
    "            if self.stay.lower()=='n':break\n",
    "            GameMenu().menu()\n",
    "            try:\n",
    "                self.option=int(input('Your choice:(1 or 2 or or 3 or 4 or 5 or 6 or 7)'))\n",
    "                print('----------')\n",
    "                if self.option==1:\n",
    "                    user = Riddle_game()\n",
    "                    user.play_game()\n",
    "                elif self.option==2:\n",
    "                    user = arith_puzzle()\n",
    "                    user.play_game()\n",
    "                elif self.option==3:\n",
    "                    user = Gk_quiz()\n",
    "                    user.play_game()\n",
    "                elif self.option==4:\n",
    "                    user = RPS_one_user()\n",
    "                    user.play_game()\n",
    "                elif self.option==5:\n",
    "                    user = RockPaperScissors()\n",
    "                    user.play_game()\n",
    "                elif self.option==6:\n",
    "                    user = Word_guess()\n",
    "                    user.play_game()\n",
    "                elif self.option==7:\n",
    "                    print('Thanks for visiting')\n",
    "                else:\n",
    "                    print('enter numbers only between 1 and 7')\n",
    "            except ValueError:\n",
    "                print('Invalid value entered')\n",
    "            except TypeError:\n",
    "                print('Enter the right type of input')\n",
    "            finally:\n",
    "                print('Thank you!!!')\n",
    "    \n",
    "    \n"
   ]
  },
  {
   "cell_type": "code",
   "execution_count": 31,
   "id": "e17913db-3e54-41e7-bb15-cd8a2e257f42",
   "metadata": {},
   "outputs": [
    {
     "name": "stdout",
     "output_type": "stream",
     "text": [
      "Lets have fun\n",
      "-----------\n"
     ]
    },
    {
     "name": "stdin",
     "output_type": "stream",
     "text": [
      "enter 'Y'/'y' to proceed or 'N'/'n' to quit y\n"
     ]
    },
    {
     "name": "stdout",
     "output_type": "stream",
     "text": [
      "Games:\n",
      "1 - Play Riddle puzzle\n",
      "2 - Play Arithmetic puzzle\n",
      "3 - Play General Knowledge quiz\n",
      "4 - Play Rock-Paper-Scissors with computer\n",
      "5 - play Rock-Paper_scissors with user\n",
      "6 - Play Word puzzle game with the computer\n",
      "7 - enter 7 to go back\n"
     ]
    },
    {
     "name": "stdin",
     "output_type": "stream",
     "text": [
      "Your choice:(1 or 2 or or 3 or 4 or 5 or 6 or 7) 6\n"
     ]
    },
    {
     "name": "stdout",
     "output_type": "stream",
     "text": [
      "----------\n",
      "Welcome to word guessing game\n",
      "Today's topic is 'Animals'\n"
     ]
    },
    {
     "name": "stdin",
     "output_type": "stream",
     "text": [
      "Do you want to guess my animal? if yes enter any word to continue or enter \"no\": yes\n",
      "your guess animal: zebra\n"
     ]
    },
    {
     "name": "stdout",
     "output_type": "stream",
     "text": [
      "you have guessed right!\n",
      "My animal is Zebra\n",
      "\n"
     ]
    },
    {
     "name": "stdin",
     "output_type": "stream",
     "text": [
      "Do you want to guess my animal? if yes enter any word to continue or enter \"no\": y\n",
      "your guess animal: dog\n"
     ]
    },
    {
     "name": "stdout",
     "output_type": "stream",
     "text": [
      "you have used your 1st try. Here is a hint\n",
      "Hint1: I am pretty\n"
     ]
    },
    {
     "name": "stdin",
     "output_type": "stream",
     "text": [
      "your guess animal: peacock\n"
     ]
    },
    {
     "name": "stdout",
     "output_type": "stream",
     "text": [
      "your 2nd guess is right!\n",
      "My animal is Peacock\n",
      "\n"
     ]
    },
    {
     "name": "stdin",
     "output_type": "stream",
     "text": [
      "Do you want to guess my animal? if yes enter any word to continue or enter \"no\": j\n",
      "your guess animal: wolf\n"
     ]
    },
    {
     "name": "stdout",
     "output_type": "stream",
     "text": [
      "you have used your 1st try. Here is a hint\n",
      "Hint1: I am pretty\n"
     ]
    },
    {
     "name": "stdin",
     "output_type": "stream",
     "text": [
      "your guess animal: peacock\n"
     ]
    },
    {
     "name": "stdout",
     "output_type": "stream",
     "text": [
      "your 2nd guess is right!\n",
      "My animal is Peacock\n",
      "\n"
     ]
    },
    {
     "name": "stdin",
     "output_type": "stream",
     "text": [
      "Do you want to guess my animal? if yes enter any word to continue or enter \"no\": h\n",
      "your guess animal: uln\n"
     ]
    },
    {
     "name": "stdout",
     "output_type": "stream",
     "text": [
      "you have used your 1st try. Here is a hint\n",
      "Hint1: I am a villain in fairy tales\n"
     ]
    },
    {
     "name": "stdin",
     "output_type": "stream",
     "text": [
      "your guess animal: fox\n"
     ]
    },
    {
     "name": "stdout",
     "output_type": "stream",
     "text": [
      "you have used your 2nd try. Here is another hint\n",
      "Hint2: I howl\n"
     ]
    },
    {
     "name": "stdin",
     "output_type": "stream",
     "text": [
      "your guess animal: fox\n"
     ]
    },
    {
     "name": "stdout",
     "output_type": "stream",
     "text": [
      "Oops! you have used all 3 chances\n",
      "My animal is Wolf\n",
      "\n"
     ]
    },
    {
     "name": "stdin",
     "output_type": "stream",
     "text": [
      "Do you want to guess my animal? if yes enter any word to continue or enter \"no\": no\n"
     ]
    },
    {
     "name": "stdout",
     "output_type": "stream",
     "text": [
      "Thank you!!!\n",
      "-----------\n"
     ]
    },
    {
     "name": "stdin",
     "output_type": "stream",
     "text": [
      "enter 'Y'/'y' to proceed or 'N'/'n' to quit n\n"
     ]
    }
   ],
   "source": [
    "if __name__=='__main__':\n",
    "    game_menu = GameMenu()\n",
    "    game_menu.main()"
   ]
  },
  {
   "cell_type": "code",
   "execution_count": null,
   "id": "b5359a76-21f1-4945-9d1f-978163bbab43",
   "metadata": {},
   "outputs": [],
   "source": []
  }
 ],
 "metadata": {
  "kernelspec": {
   "display_name": "Python 3 (ipykernel)",
   "language": "python",
   "name": "python3"
  },
  "language_info": {
   "codemirror_mode": {
    "name": "ipython",
    "version": 3
   },
   "file_extension": ".py",
   "mimetype": "text/x-python",
   "name": "python",
   "nbconvert_exporter": "python",
   "pygments_lexer": "ipython3",
   "version": "3.12.4"
  }
 },
 "nbformat": 4,
 "nbformat_minor": 5
}
